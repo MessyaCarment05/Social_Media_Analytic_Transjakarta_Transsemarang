{
 "cells": [
  {
   "cell_type": "code",
   "execution_count": 4,
   "metadata": {},
   "outputs": [],
   "source": [
    "import pandas as pd\n",
    "\n",
    "df = pd.read_csv('Data/TJ_sentimentManual - TJ_withSentiment.csv')\n",
    "df = pd.concat([df, pd.read_csv('Data/TS_sentimentManual - TS_withSentiment.csv')])"
   ]
  },
  {
   "cell_type": "code",
   "execution_count": 7,
   "metadata": {},
   "outputs": [],
   "source": [
    "df.drop(['index',  '0'], axis=1, inplace=True)"
   ]
  },
  {
   "cell_type": "code",
   "execution_count": 8,
   "metadata": {},
   "outputs": [
    {
     "name": "stdout",
     "output_type": "stream",
     "text": [
      "<class 'pandas.core.frame.DataFrame'>\n",
      "Index: 1079 entries, 0 to 504\n",
      "Data columns (total 16 columns):\n",
      " #   Column           Non-Null Count  Dtype \n",
      "---  ------           --------------  ----- \n",
      " 0   created_at       1079 non-null   object\n",
      " 1   favorite_count   1079 non-null   int64 \n",
      " 2   full_text        1079 non-null   object\n",
      " 3   id_str           1079 non-null   int64 \n",
      " 4   lang             1079 non-null   object\n",
      " 5   location         583 non-null    object\n",
      " 6   quote_count      1079 non-null   int64 \n",
      " 7   reply_count      1079 non-null   int64 \n",
      " 8   retweet_count    1079 non-null   int64 \n",
      " 9   username         1079 non-null   object\n",
      " 10  keyword          1079 non-null   object\n",
      " 11  created_day      1079 non-null   object\n",
      " 12  sentiment        1079 non-null   object\n",
      " 13  sentiment_Hany   1079 non-null   int64 \n",
      " 14  sentiment_Jess   1079 non-null   int64 \n",
      " 15  sentiment_Messy  1079 non-null   int64 \n",
      "dtypes: int64(8), object(8)\n",
      "memory usage: 143.3+ KB\n"
     ]
    }
   ],
   "source": [
    "df.info()"
   ]
  },
  {
   "cell_type": "code",
   "execution_count": 9,
   "metadata": {},
   "outputs": [
    {
     "name": "stdout",
     "output_type": "stream",
     "text": [
      "Cohen's Kappa between Annotator 1 and 2: 0.9215191188694929\n",
      "Cohen's Kappa between Annotator 1 and 3: 0.8460877431026685\n",
      "Cohen's Kappa between Annotator 2 and 3: 0.8492469332439154\n"
     ]
    }
   ],
   "source": [
    "import numpy as np\n",
    "from sklearn.metrics import cohen_kappa_score\n",
    "\n",
    "# Example annotations from three annotators\n",
    "annotator1 = np.array(df['sentiment_Hany'])\n",
    "annotator2 = np.array(df['sentiment_Jess'])\n",
    "annotator3 = np.array(df['sentiment_Messy'])\n",
    "\n",
    "# Calculate Cohen's Kappa for each pair\n",
    "kappa_12 = cohen_kappa_score(annotator1, annotator2)\n",
    "kappa_13 = cohen_kappa_score(annotator1, annotator3)\n",
    "kappa_23 = cohen_kappa_score(annotator2, annotator3)\n",
    "\n",
    "print(f\"Cohen's Kappa between Annotator 1 and 2: {kappa_12}\")\n",
    "print(f\"Cohen's Kappa between Annotator 1 and 3: {kappa_13}\")\n",
    "print(f\"Cohen's Kappa between Annotator 2 and 3: {kappa_23}\")\n"
   ]
  },
  {
   "cell_type": "code",
   "execution_count": 10,
   "metadata": {},
   "outputs": [],
   "source": [
    "sent_vals = []\n",
    "\n",
    "for sent in df['sentiment']:\n",
    "    if sent == 'Positive':\n",
    "        sent_vals.append(2)\n",
    "    elif sent == 'Negative':\n",
    "        sent_vals.append(0)\n",
    "    else:\n",
    "        sent_vals.append(1)"
   ]
  },
  {
   "cell_type": "code",
   "execution_count": 11,
   "metadata": {},
   "outputs": [],
   "source": [
    "df['sentiment_value'] = sent_vals"
   ]
  },
  {
   "cell_type": "code",
   "execution_count": 15,
   "metadata": {},
   "outputs": [
    {
     "name": "stdout",
     "output_type": "stream",
     "text": [
      "Ground Truth (Majority Vote): [0 0 1 ... 1 1 1]\n",
      "Model Accuracy: 0.7840593141797961\n",
      "Precision: 0.7910131872687205\n",
      "Recall: 0.7840593141797961\n",
      "F1 Score: 0.7744985983262423\n",
      "Confusion Matrix:\n",
      "[[182 143  20]\n",
      " [ 40 630  15]\n",
      " [  2  13  34]]\n"
     ]
    }
   ],
   "source": [
    "from sklearn.metrics import accuracy_score, confusion_matrix, precision_score, recall_score, f1_score\n",
    "\n",
    "\n",
    "# Example model predictions\n",
    "model_predictions = np.array(df['sentiment_value'])\n",
    "\n",
    "# Ground truth based on majority vote\n",
    "ground_truth = np.round((annotator1 + annotator2 + annotator3) / 3).astype(int)\n",
    "\n",
    "print(f\"Ground Truth (Majority Vote): {ground_truth}\")\n",
    "\n",
    "# Calculate the accuracy of the model\n",
    "accuracy = accuracy_score(ground_truth, model_predictions)\n",
    "print(f\"Model Accuracy: {accuracy}\")\n",
    "\n",
    "# Calculate precision, recall, and F1 score\n",
    "precision = precision_score(ground_truth, model_predictions, average='weighted')\n",
    "recall = recall_score(ground_truth, model_predictions, average='weighted')\n",
    "f1 = f1_score(ground_truth, model_predictions, average='weighted')\n",
    "\n",
    "print(f\"Precision: {precision}\")\n",
    "print(f\"Recall: {recall}\")\n",
    "print(f\"F1 Score: {f1}\")\n",
    "\n",
    "# Calculate confusion matrix\n",
    "conf_matrix = confusion_matrix(ground_truth, model_predictions)\n",
    "print(f\"Confusion Matrix:\\n{conf_matrix}\")\n"
   ]
  },
  {
   "cell_type": "code",
   "execution_count": 22,
   "metadata": {},
   "outputs": [
    {
     "data": {
      "image/png": "[encoded data removed]",
      "text/plain": [
       "<Figure size 500x400 with 2 Axes>"
      ]
     },
     "metadata": {},
     "output_type": "display_data"
    }
   ],
   "source": [
    "import seaborn as sns\n",
    "import matplotlib.pyplot as plt\n",
    "\n",
    "plt.figure(figsize=(5, 4))\n",
    "sns.heatmap(conf_matrix, annot=True, fmt='d', cmap='crest', xticklabels=np.unique(ground_truth), yticklabels=np.unique(ground_truth))\n",
    "plt.xlabel('Predicted Labels')\n",
    "plt.ylabel('True Labels')\n",
    "plt.title('Confusion Matrix Heatmap')\n",
    "plt.show()"
   ]
  }
 ],
 "metadata": {
  "kernelspec": {
   "display_name": "Python 3",
   "language": "python",
   "name": "python3"
  },
  "language_info": {
   "codemirror_mode": {
    "name": "ipython",
    "version": 3
   },
   "file_extension": ".py",
   "mimetype": "text/x-python",
   "name": "python",
   "nbconvert_exporter": "python",
   "pygments_lexer": "ipython3",
   "version": "3.10.5"
  }
 },
 "nbformat": 4,
 "nbformat_minor": 2
}
