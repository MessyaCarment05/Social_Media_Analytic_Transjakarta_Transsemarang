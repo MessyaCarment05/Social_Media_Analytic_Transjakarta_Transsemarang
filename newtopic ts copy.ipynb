{
 "cells": [
  {
   "cell_type": "code",
   "execution_count": 1,
   "metadata": {},
   "outputs": [],
   "source": [
    "import nltk\n",
    "import gensim\n",
    "import gensim.corpora as corpora\n",
    "import pandas as pd\n",
    "import numpy as np\n",
    "from bertopic import BERTopic\n",
    "from sentence_transformers import SentenceTransformer\n",
    "from umap import UMAP\n",
    "from hdbscan import HDBSCAN\n",
    "from nltk.stem import WordNetLemmatizer\n",
    "from nltk.tokenize import word_tokenize\n",
    "from sklearn.feature_extraction.text import CountVectorizer\n",
    "from bertopic.vectorizers import ClassTfidfTransformer\n",
    "from gensim.models.coherencemodel import CoherenceModel\n",
    "from sklearn.datasets import fetch_20newsgroups"
   ]
  },
  {
   "cell_type": "code",
   "execution_count": 2,
   "metadata": {},
   "outputs": [],
   "source": [
    "dataset = pd.read_csv('Data/Preprocessed_TS_new.csv')"
   ]
  },
  {
   "cell_type": "code",
   "execution_count": 3,
   "metadata": {},
   "outputs": [],
   "source": [
    "# Step 2.1 - Extract embeddings\n",
    "embedding_model = SentenceTransformer(\"all-MiniLM-L6-v2\")\n",
    "\n",
    "# Step 2.2 - Reduce dimensionality\n",
    "umap_model = UMAP(n_neighbors=5, n_components=2, metric='cosine')\n",
    "\n",
    "# Step 2.3 - Cluster reduced embeddings\n",
    "hdbscan_model = HDBSCAN(min_cluster_size=4, metric='euclidean', cluster_selection_method='eom', prediction_data=True)\n",
    "\n",
    "# Step 2.4 - Tokenize topics\n",
    "vectorizer_model = CountVectorizer()\n",
    "\n",
    "# Step 2.5 - Create topic representation\n",
    "ctfidf_model = ClassTfidfTransformer()"
   ]
  },
  {
   "cell_type": "code",
   "execution_count": 4,
   "metadata": {},
   "outputs": [],
   "source": [
    "topic_model = BERTopic(\n",
    "  embedding_model=embedding_model,    # Step 1 - Extract embeddings\n",
    "  umap_model=umap_model,              # Step 2 - Reduce dimensionality\n",
    "  hdbscan_model=hdbscan_model,        # Step 3 - Cluster reduced embeddings\n",
    "  vectorizer_model=vectorizer_model,  # Step 4 - Tokenize topics\n",
    "  ctfidf_model=ctfidf_model,          # Step 5 - Extract topic words\n",
    "  min_topic_size=10                        \n",
    ")"
   ]
  },
  {
   "cell_type": "code",
   "execution_count": 5,
   "metadata": {},
   "outputs": [],
   "source": [
    "topics, probabilities = topic_model.fit_transform(dataset['full_text'])"
   ]
  },
  {
   "cell_type": "code",
   "execution_count": 6,
   "metadata": {},
   "outputs": [
    {
     "ename": "ValueError",
     "evalue": "Mime type rendering requires nbformat>=4.2.0 but it is not installed",
     "output_type": "error",
     "traceback": [
      "\u001b[1;31m---------------------------------------------------------------------------\u001b[0m",
      "\u001b[1;31mValueError\u001b[0m                                Traceback (most recent call last)",
      "File \u001b[1;32m~\\AppData\\Roaming\\Python\\Python310\\site-packages\\IPython\\core\\formatters.py:925\u001b[0m, in \u001b[0;36mIPythonDisplayFormatter.__call__\u001b[1;34m(self, obj)\u001b[0m\n\u001b[0;32m    923\u001b[0m method \u001b[38;5;241m=\u001b[39m get_real_method(obj, \u001b[38;5;28mself\u001b[39m\u001b[38;5;241m.\u001b[39mprint_method)\n\u001b[0;32m    924\u001b[0m \u001b[38;5;28;01mif\u001b[39;00m method \u001b[38;5;129;01mis\u001b[39;00m \u001b[38;5;129;01mnot\u001b[39;00m \u001b[38;5;28;01mNone\u001b[39;00m:\n\u001b[1;32m--> 925\u001b[0m     \u001b[43mmethod\u001b[49m\u001b[43m(\u001b[49m\u001b[43m)\u001b[49m\n\u001b[0;32m    926\u001b[0m     \u001b[38;5;28;01mreturn\u001b[39;00m \u001b[38;5;28;01mTrue\u001b[39;00m\n",
      "File \u001b[1;32mc:\\Users\\Yoga Duet\\AppData\\Local\\Programs\\Python\\Python310\\lib\\site-packages\\plotly\\basedatatypes.py:832\u001b[0m, in \u001b[0;36mBaseFigure._ipython_display_\u001b[1;34m(self)\u001b[0m\n\u001b[0;32m    829\u001b[0m \u001b[38;5;28;01mimport\u001b[39;00m \u001b[38;5;21;01mplotly\u001b[39;00m\u001b[38;5;21;01m.\u001b[39;00m\u001b[38;5;21;01mio\u001b[39;00m \u001b[38;5;28;01mas\u001b[39;00m \u001b[38;5;21;01mpio\u001b[39;00m\n\u001b[0;32m    831\u001b[0m \u001b[38;5;28;01mif\u001b[39;00m pio\u001b[38;5;241m.\u001b[39mrenderers\u001b[38;5;241m.\u001b[39mrender_on_display \u001b[38;5;129;01mand\u001b[39;00m pio\u001b[38;5;241m.\u001b[39mrenderers\u001b[38;5;241m.\u001b[39mdefault:\n\u001b[1;32m--> 832\u001b[0m     \u001b[43mpio\u001b[49m\u001b[38;5;241;43m.\u001b[39;49m\u001b[43mshow\u001b[49m\u001b[43m(\u001b[49m\u001b[38;5;28;43mself\u001b[39;49m\u001b[43m)\u001b[49m\n\u001b[0;32m    833\u001b[0m \u001b[38;5;28;01melse\u001b[39;00m:\n\u001b[0;32m    834\u001b[0m     \u001b[38;5;28mprint\u001b[39m(\u001b[38;5;28mrepr\u001b[39m(\u001b[38;5;28mself\u001b[39m))\n",
      "File \u001b[1;32mc:\\Users\\Yoga Duet\\AppData\\Local\\Programs\\Python\\Python310\\lib\\site-packages\\plotly\\io\\_renderers.py:394\u001b[0m, in \u001b[0;36mshow\u001b[1;34m(fig, renderer, validate, **kwargs)\u001b[0m\n\u001b[0;32m    389\u001b[0m         \u001b[38;5;28;01mraise\u001b[39;00m \u001b[38;5;167;01mValueError\u001b[39;00m(\n\u001b[0;32m    390\u001b[0m             \u001b[38;5;124m\"\u001b[39m\u001b[38;5;124mMime type rendering requires ipython but it is not installed\u001b[39m\u001b[38;5;124m\"\u001b[39m\n\u001b[0;32m    391\u001b[0m         )\n\u001b[0;32m    393\u001b[0m     \u001b[38;5;28;01mif\u001b[39;00m \u001b[38;5;129;01mnot\u001b[39;00m nbformat \u001b[38;5;129;01mor\u001b[39;00m Version(nbformat\u001b[38;5;241m.\u001b[39m__version__) \u001b[38;5;241m<\u001b[39m Version(\u001b[38;5;124m\"\u001b[39m\u001b[38;5;124m4.2.0\u001b[39m\u001b[38;5;124m\"\u001b[39m):\n\u001b[1;32m--> 394\u001b[0m         \u001b[38;5;28;01mraise\u001b[39;00m \u001b[38;5;167;01mValueError\u001b[39;00m(\n\u001b[0;32m    395\u001b[0m             \u001b[38;5;124m\"\u001b[39m\u001b[38;5;124mMime type rendering requires nbformat>=4.2.0 but it is not installed\u001b[39m\u001b[38;5;124m\"\u001b[39m\n\u001b[0;32m    396\u001b[0m         )\n\u001b[0;32m    398\u001b[0m     ipython_display\u001b[38;5;241m.\u001b[39mdisplay(bundle, raw\u001b[38;5;241m=\u001b[39m\u001b[38;5;28;01mTrue\u001b[39;00m)\n\u001b[0;32m    400\u001b[0m \u001b[38;5;66;03m# external renderers\u001b[39;00m\n",
      "\u001b[1;31mValueError\u001b[0m: Mime type rendering requires nbformat>=4.2.0 but it is not installed"
     ]
    },
    {
     "data": {
      "application/vnd.plotly.v1+json": {
       "config": {
        "plotlyServerURL": "https://plot.ly"
       },
       "data": [
        {
         "marker": {
          "color": "#D55E00"
         },
         "orientation": "h",
         "type": "bar",
         "x": [
          0.037131005185617315,
          0.03870505085012905,
          0.04838131356266131,
          0.06520980884150068,
          0.15542858344379162
         ],
         "xaxis": "x",
         "y": [
          "naiknya  ",
          "kagok  ",
          "transitnya  ",
          "dimana  ",
          "transit  "
         ],
         "yaxis": "y"
        },
        {
         "marker": {
          "color": "#0072B2"
         },
         "orientation": "h",
         "type": "bar",
         "x": [
          0.03313005769758442,
          0.03313005769758442,
          0.03523053130217995,
          0.04495934564920288,
          0.15338482675656637
         ],
         "xaxis": "x2",
         "y": [
          "kuota  ",
          "hendrarprihadi  ",
          "banyumanik  ",
          "ugalan  ",
          "feeder  "
         ],
         "yaxis": "y2"
        },
        {
         "marker": {
          "color": "#CC79A7"
         },
         "orientation": "h",
         "type": "bar",
         "x": [
          0.050122126770944964,
          0.050515601072051046,
          0.050515601072051046,
          0.06465094139003431,
          0.06901001766052263
         ],
         "xaxis": "x3",
         "y": [
          "jam  ",
          "kak  ",
          "tawang  ",
          "sore  ",
          "acnya  "
         ],
         "yaxis": "y3"
        },
        {
         "marker": {
          "color": "#E69F00"
         },
         "orientation": "h",
         "type": "bar",
         "x": [
          0.0540187883603975,
          0.06567973973100942,
          0.08397067369221392,
          0.09553150336244433,
          0.12550649580312462
         ],
         "xaxis": "x4",
         "y": [
          "tanah  ",
          "imam  ",
          "info  ",
          "balaikota  ",
          "halte  "
         ],
         "yaxis": "y4"
        },
        {
         "marker": {
          "color": "#56B4E9"
         },
         "orientation": "h",
         "type": "bar",
         "x": [
          0.04562171879667363,
          0.04562171879667363,
          0.04562171879667363,
          0.0708238943256928,
          0.09943262225364514
         ],
         "xaxis": "x5",
         "y": [
          "teman  ",
          "memfasilitasi  ",
          "gading  ",
          "semarang  ",
          "kota  "
         ],
         "yaxis": "y5"
        },
        {
         "marker": {
          "color": "#009E73"
         },
         "orientation": "h",
         "type": "bar",
         "x": [
          0.02869122684503463,
          0.029348661084543648,
          0.03513233998054072,
          0.0845868253615579,
          0.08505407624337102
         ],
         "xaxis": "x6",
         "y": [
          "layanan  ",
          "trans  ",
          "cangkiran  ",
          "iv  ",
          "bus  "
         ],
         "yaxis": "y6"
        },
        {
         "marker": {
          "color": "#F0E442"
         },
         "orientation": "h",
         "type": "bar",
         "x": [
          0.039012965139211556,
          0.049016461142053463,
          0.049016461142053463,
          0.05294278085793983,
          0.0529572587674059
         ],
         "xaxis": "x7",
         "y": [
          "karna  ",
          "berlaku  ",
          "ts  ",
          "ngerasain  ",
          "khusus  "
         ],
         "yaxis": "y7"
        },
        {
         "marker": {
          "color": "#D55E00"
         },
         "orientation": "h",
         "type": "bar",
         "x": [
          0.05186202568556011,
          0.05636885008348793,
          0.05980671039463348,
          0.07951213847420262,
          0.07951213847420262
         ],
         "xaxis": "x8",
         "y": [
          "terdekat  ",
          "jurusan  ",
          "dimana  ",
          "max  ",
          "alun  "
         ],
         "yaxis": "y8"
        }
       ],
       "layout": {
        "annotations": [
         {
          "font": {
           "size": 16
          },
          "showarrow": false,
          "text": "Topic 0",
          "x": 0.0875,
          "xanchor": "center",
          "xref": "paper",
          "y": 1,
          "yanchor": "bottom",
          "yref": "paper"
         },
         {
          "font": {
           "size": 16
          },
          "showarrow": false,
          "text": "Topic 1",
          "x": 0.36250000000000004,
          "xanchor": "center",
          "xref": "paper",
          "y": 1,
          "yanchor": "bottom",
          "yref": "paper"
         },
         {
          "font": {
           "size": 16
          },
          "showarrow": false,
          "text": "Topic 2",
          "x": 0.6375000000000001,
          "xanchor": "center",
          "xref": "paper",
          "y": 1,
          "yanchor": "bottom",
          "yref": "paper"
         },
         {
          "font": {
           "size": 16
          },
          "showarrow": false,
          "text": "Topic 3",
          "x": 0.9125,
          "xanchor": "center",
          "xref": "paper",
          "y": 1,
          "yanchor": "bottom",
          "yref": "paper"
         },
         {
          "font": {
           "size": 16
          },
          "showarrow": false,
          "text": "Topic 4",
          "x": 0.0875,
          "xanchor": "center",
          "xref": "paper",
          "y": 0.4,
          "yanchor": "bottom",
          "yref": "paper"
         },
         {
          "font": {
           "size": 16
          },
          "showarrow": false,
          "text": "Topic 5",
          "x": 0.36250000000000004,
          "xanchor": "center",
          "xref": "paper",
          "y": 0.4,
          "yanchor": "bottom",
          "yref": "paper"
         },
         {
          "font": {
           "size": 16
          },
          "showarrow": false,
          "text": "Topic 6",
          "x": 0.6375000000000001,
          "xanchor": "center",
          "xref": "paper",
          "y": 0.4,
          "yanchor": "bottom",
          "yref": "paper"
         },
         {
          "font": {
           "size": 16
          },
          "showarrow": false,
          "text": "Topic 7",
          "x": 0.9125,
          "xanchor": "center",
          "xref": "paper",
          "y": 0.4,
          "yanchor": "bottom",
          "yref": "paper"
         }
        ],
        "height": 500,
        "hoverlabel": {
         "bgcolor": "white",
         "font": {
          "family": "Rockwell",
          "size": 16
         }
        },
        "showlegend": false,
        "template": {
         "data": {
          "bar": [
           {
            "error_x": {
             "color": "#2a3f5f"
            },
            "error_y": {
             "color": "#2a3f5f"
            },
            "marker": {
             "line": {
              "color": "white",
              "width": 0.5
             },
             "pattern": {
              "fillmode": "overlay",
              "size": 10,
              "solidity": 0.2
             }
            },
            "type": "bar"
           }
          ],
          "barpolar": [
           {
            "marker": {
             "line": {
              "color": "white",
              "width": 0.5
             },
             "pattern": {
              "fillmode": "overlay",
              "size": 10,
              "solidity": 0.2
             }
            },
            "type": "barpolar"
           }
          ],
          "carpet": [
           {
            "aaxis": {
             "endlinecolor": "#2a3f5f",
             "gridcolor": "#C8D4E3",
             "linecolor": "#C8D4E3",
             "minorgridcolor": "#C8D4E3",
             "startlinecolor": "#2a3f5f"
            },
            "baxis": {
             "endlinecolor": "#2a3f5f",
             "gridcolor": "#C8D4E3",
             "linecolor": "#C8D4E3",
             "minorgridcolor": "#C8D4E3",
             "startlinecolor": "#2a3f5f"
            },
            "type": "carpet"
           }
          ],
          "choropleth": [
           {
            "colorbar": {
             "outlinewidth": 0,
             "ticks": ""
            },
            "type": "choropleth"
           }
          ],
          "contour": [
           {
            "colorbar": {
             "outlinewidth": 0,
             "ticks": ""
            },
            "colorscale": [
             [
              0,
              "#0d0887"
             ],
             [
              0.1111111111111111,
              "#46039f"
             ],
             [
              0.2222222222222222,
              "#7201a8"
             ],
             [
              0.3333333333333333,
              "#9c179e"
             ],
             [
              0.4444444444444444,
              "#bd3786"
             ],
             [
              0.5555555555555556,
              "#d8576b"
             ],
             [
              0.6666666666666666,
              "#ed7953"
             ],
             [
              0.7777777777777778,
              "#fb9f3a"
             ],
             [
              0.8888888888888888,
              "#fdca26"
             ],
             [
              1,
              "#f0f921"
             ]
            ],
            "type": "contour"
           }
          ],
          "contourcarpet": [
           {
            "colorbar": {
             "outlinewidth": 0,
             "ticks": ""
            },
            "type": "contourcarpet"
           }
          ],
          "heatmap": [
           {
            "colorbar": {
             "outlinewidth": 0,
             "ticks": ""
            },
            "colorscale": [
             [
              0,
              "#0d0887"
             ],
             [
              0.1111111111111111,
              "#46039f"
             ],
             [
              0.2222222222222222,
              "#7201a8"
             ],
             [
              0.3333333333333333,
              "#9c179e"
             ],
             [
              0.4444444444444444,
              "#bd3786"
             ],
             [
              0.5555555555555556,
              "#d8576b"
             ],
             [
              0.6666666666666666,
              "#ed7953"
             ],
             [
              0.7777777777777778,
              "#fb9f3a"
             ],
             [
              0.8888888888888888,
              "#fdca26"
             ],
             [
              1,
              "#f0f921"
             ]
            ],
            "type": "heatmap"
           }
          ],
          "heatmapgl": [
           {
            "colorbar": {
             "outlinewidth": 0,
             "ticks": ""
            },
            "colorscale": [
             [
              0,
              "#0d0887"
             ],
             [
              0.1111111111111111,
              "#46039f"
             ],
             [
              0.2222222222222222,
              "#7201a8"
             ],
             [
              0.3333333333333333,
              "#9c179e"
             ],
             [
              0.4444444444444444,
              "#bd3786"
             ],
             [
              0.5555555555555556,
              "#d8576b"
             ],
             [
              0.6666666666666666,
              "#ed7953"
             ],
             [
              0.7777777777777778,
              "#fb9f3a"
             ],
             [
              0.8888888888888888,
              "#fdca26"
             ],
             [
              1,
              "#f0f921"
             ]
            ],
            "type": "heatmapgl"
           }
          ],
          "histogram": [
           {
            "marker": {
             "pattern": {
              "fillmode": "overlay",
              "size": 10,
              "solidity": 0.2
             }
            },
            "type": "histogram"
           }
          ],
          "histogram2d": [
           {
            "colorbar": {
             "outlinewidth": 0,
             "ticks": ""
            },
            "colorscale": [
             [
              0,
              "#0d0887"
             ],
             [
              0.1111111111111111,
              "#46039f"
             ],
             [
              0.2222222222222222,
              "#7201a8"
             ],
             [
              0.3333333333333333,
              "#9c179e"
             ],
             [
              0.4444444444444444,
              "#bd3786"
             ],
             [
              0.5555555555555556,
              "#d8576b"
             ],
             [
              0.6666666666666666,
              "#ed7953"
             ],
             [
              0.7777777777777778,
              "#fb9f3a"
             ],
             [
              0.8888888888888888,
              "#fdca26"
             ],
             [
              1,
              "#f0f921"
             ]
            ],
            "type": "histogram2d"
           }
          ],
          "histogram2dcontour": [
           {
            "colorbar": {
             "outlinewidth": 0,
             "ticks": ""
            },
            "colorscale": [
             [
              0,
              "#0d0887"
             ],
             [
              0.1111111111111111,
              "#46039f"
             ],
             [
              0.2222222222222222,
              "#7201a8"
             ],
             [
              0.3333333333333333,
              "#9c179e"
             ],
             [
              0.4444444444444444,
              "#bd3786"
             ],
             [
              0.5555555555555556,
              "#d8576b"
             ],
             [
              0.6666666666666666,
              "#ed7953"
             ],
             [
              0.7777777777777778,
              "#fb9f3a"
             ],
             [
              0.8888888888888888,
              "#fdca26"
             ],
             [
              1,
              "#f0f921"
             ]
            ],
            "type": "histogram2dcontour"
           }
          ],
          "mesh3d": [
           {
            "colorbar": {
             "outlinewidth": 0,
             "ticks": ""
            },
            "type": "mesh3d"
           }
          ],
          "parcoords": [
           {
            "line": {
             "colorbar": {
              "outlinewidth": 0,
              "ticks": ""
             }
            },
            "type": "parcoords"
           }
          ],
          "pie": [
           {
            "automargin": true,
            "type": "pie"
           }
          ],
          "scatter": [
           {
            "fillpattern": {
             "fillmode": "overlay",
             "size": 10,
             "solidity": 0.2
            },
            "type": "scatter"
           }
          ],
          "scatter3d": [
           {
            "line": {
             "colorbar": {
              "outlinewidth": 0,
              "ticks": ""
             }
            },
            "marker": {
             "colorbar": {
              "outlinewidth": 0,
              "ticks": ""
             }
            },
            "type": "scatter3d"
           }
          ],
          "scattercarpet": [
           {
            "marker": {
             "colorbar": {
              "outlinewidth": 0,
              "ticks": ""
             }
            },
            "type": "scattercarpet"
           }
          ],
          "scattergeo": [
           {
            "marker": {
             "colorbar": {
              "outlinewidth": 0,
              "ticks": ""
             }
            },
            "type": "scattergeo"
           }
          ],
          "scattergl": [
           {
            "marker": {
             "colorbar": {
              "outlinewidth": 0,
              "ticks": ""
             }
            },
            "type": "scattergl"
           }
          ],
          "scattermapbox": [
           {
            "marker": {
             "colorbar": {
              "outlinewidth": 0,
              "ticks": ""
             }
            },
            "type": "scattermapbox"
           }
          ],
          "scatterpolar": [
           {
            "marker": {
             "colorbar": {
              "outlinewidth": 0,
              "ticks": ""
             }
            },
            "type": "scatterpolar"
           }
          ],
          "scatterpolargl": [
           {
            "marker": {
             "colorbar": {
              "outlinewidth": 0,
              "ticks": ""
             }
            },
            "type": "scatterpolargl"
           }
          ],
          "scatterternary": [
           {
            "marker": {
             "colorbar": {
              "outlinewidth": 0,
              "ticks": ""
             }
            },
            "type": "scatterternary"
           }
          ],
          "surface": [
           {
            "colorbar": {
             "outlinewidth": 0,
             "ticks": ""
            },
            "colorscale": [
             [
              0,
              "#0d0887"
             ],
             [
              0.1111111111111111,
              "#46039f"
             ],
             [
              0.2222222222222222,
              "#7201a8"
             ],
             [
              0.3333333333333333,
              "#9c179e"
             ],
             [
              0.4444444444444444,
              "#bd3786"
             ],
             [
              0.5555555555555556,
              "#d8576b"
             ],
             [
              0.6666666666666666,
              "#ed7953"
             ],
             [
              0.7777777777777778,
              "#fb9f3a"
             ],
             [
              0.8888888888888888,
              "#fdca26"
             ],
             [
              1,
              "#f0f921"
             ]
            ],
            "type": "surface"
           }
          ],
          "table": [
           {
            "cells": {
             "fill": {
              "color": "#EBF0F8"
             },
             "line": {
              "color": "white"
             }
            },
            "header": {
             "fill": {
              "color": "#C8D4E3"
             },
             "line": {
              "color": "white"
             }
            },
            "type": "table"
           }
          ]
         },
         "layout": {
          "annotationdefaults": {
           "arrowcolor": "#2a3f5f",
           "arrowhead": 0,
           "arrowwidth": 1
          },
          "autotypenumbers": "strict",
          "coloraxis": {
           "colorbar": {
            "outlinewidth": 0,
            "ticks": ""
           }
          },
          "colorscale": {
           "diverging": [
            [
             0,
             "#8e0152"
            ],
            [
             0.1,
             "#c51b7d"
            ],
            [
             0.2,
             "#de77ae"
            ],
            [
             0.3,
             "#f1b6da"
            ],
            [
             0.4,
             "#fde0ef"
            ],
            [
             0.5,
             "#f7f7f7"
            ],
            [
             0.6,
             "#e6f5d0"
            ],
            [
             0.7,
             "#b8e186"
            ],
            [
             0.8,
             "#7fbc41"
            ],
            [
             0.9,
             "#4d9221"
            ],
            [
             1,
             "#276419"
            ]
           ],
           "sequential": [
            [
             0,
             "#0d0887"
            ],
            [
             0.1111111111111111,
             "#46039f"
            ],
            [
             0.2222222222222222,
             "#7201a8"
            ],
            [
             0.3333333333333333,
             "#9c179e"
            ],
            [
             0.4444444444444444,
             "#bd3786"
            ],
            [
             0.5555555555555556,
             "#d8576b"
            ],
            [
             0.6666666666666666,
             "#ed7953"
            ],
            [
             0.7777777777777778,
             "#fb9f3a"
            ],
            [
             0.8888888888888888,
             "#fdca26"
            ],
            [
             1,
             "#f0f921"
            ]
           ],
           "sequentialminus": [
            [
             0,
             "#0d0887"
            ],
            [
             0.1111111111111111,
             "#46039f"
            ],
            [
             0.2222222222222222,
             "#7201a8"
            ],
            [
             0.3333333333333333,
             "#9c179e"
            ],
            [
             0.4444444444444444,
             "#bd3786"
            ],
            [
             0.5555555555555556,
             "#d8576b"
            ],
            [
             0.6666666666666666,
             "#ed7953"
            ],
            [
             0.7777777777777778,
             "#fb9f3a"
            ],
            [
             0.8888888888888888,
             "#fdca26"
            ],
            [
             1,
             "#f0f921"
            ]
           ]
          },
          "colorway": [
           "#636efa",
           "#EF553B",
           "#00cc96",
           "#ab63fa",
           "#FFA15A",
           "#19d3f3",
           "#FF6692",
           "#B6E880",
           "#FF97FF",
           "#FECB52"
          ],
          "font": {
           "color": "#2a3f5f"
          },
          "geo": {
           "bgcolor": "white",
           "lakecolor": "white",
           "landcolor": "white",
           "showlakes": true,
           "showland": true,
           "subunitcolor": "#C8D4E3"
          },
          "hoverlabel": {
           "align": "left"
          },
          "hovermode": "closest",
          "mapbox": {
           "style": "light"
          },
          "paper_bgcolor": "white",
          "plot_bgcolor": "white",
          "polar": {
           "angularaxis": {
            "gridcolor": "#EBF0F8",
            "linecolor": "#EBF0F8",
            "ticks": ""
           },
           "bgcolor": "white",
           "radialaxis": {
            "gridcolor": "#EBF0F8",
            "linecolor": "#EBF0F8",
            "ticks": ""
           }
          },
          "scene": {
           "xaxis": {
            "backgroundcolor": "white",
            "gridcolor": "#DFE8F3",
            "gridwidth": 2,
            "linecolor": "#EBF0F8",
            "showbackground": true,
            "ticks": "",
            "zerolinecolor": "#EBF0F8"
           },
           "yaxis": {
            "backgroundcolor": "white",
            "gridcolor": "#DFE8F3",
            "gridwidth": 2,
            "linecolor": "#EBF0F8",
            "showbackground": true,
            "ticks": "",
            "zerolinecolor": "#EBF0F8"
           },
           "zaxis": {
            "backgroundcolor": "white",
            "gridcolor": "#DFE8F3",
            "gridwidth": 2,
            "linecolor": "#EBF0F8",
            "showbackground": true,
            "ticks": "",
            "zerolinecolor": "#EBF0F8"
           }
          },
          "shapedefaults": {
           "line": {
            "color": "#2a3f5f"
           }
          },
          "ternary": {
           "aaxis": {
            "gridcolor": "#DFE8F3",
            "linecolor": "#A2B1C6",
            "ticks": ""
           },
           "baxis": {
            "gridcolor": "#DFE8F3",
            "linecolor": "#A2B1C6",
            "ticks": ""
           },
           "bgcolor": "white",
           "caxis": {
            "gridcolor": "#DFE8F3",
            "linecolor": "#A2B1C6",
            "ticks": ""
           }
          },
          "title": {
           "x": 0.05
          },
          "xaxis": {
           "automargin": true,
           "gridcolor": "#EBF0F8",
           "linecolor": "#EBF0F8",
           "ticks": "",
           "title": {
            "standoff": 15
           },
           "zerolinecolor": "#EBF0F8",
           "zerolinewidth": 2
          },
          "yaxis": {
           "automargin": true,
           "gridcolor": "#EBF0F8",
           "linecolor": "#EBF0F8",
           "ticks": "",
           "title": {
            "standoff": 15
           },
           "zerolinecolor": "#EBF0F8",
           "zerolinewidth": 2
          }
         }
        },
        "title": {
         "font": {
          "color": "Black",
          "size": 22
         },
         "text": "Topic Word Scores",
         "x": 0.5,
         "xanchor": "center",
         "yanchor": "top"
        },
        "width": 1000,
        "xaxis": {
         "anchor": "y",
         "domain": [
          0,
          0.175
         ],
         "showgrid": true
        },
        "xaxis2": {
         "anchor": "y2",
         "domain": [
          0.275,
          0.45
         ],
         "showgrid": true
        },
        "xaxis3": {
         "anchor": "y3",
         "domain": [
          0.55,
          0.7250000000000001
         ],
         "showgrid": true
        },
        "xaxis4": {
         "anchor": "y4",
         "domain": [
          0.825,
          1
         ],
         "showgrid": true
        },
        "xaxis5": {
         "anchor": "y5",
         "domain": [
          0,
          0.175
         ],
         "showgrid": true
        },
        "xaxis6": {
         "anchor": "y6",
         "domain": [
          0.275,
          0.45
         ],
         "showgrid": true
        },
        "xaxis7": {
         "anchor": "y7",
         "domain": [
          0.55,
          0.7250000000000001
         ],
         "showgrid": true
        },
        "xaxis8": {
         "anchor": "y8",
         "domain": [
          0.825,
          1
         ],
         "showgrid": true
        },
        "yaxis": {
         "anchor": "x",
         "domain": [
          0.6000000000000001,
          1
         ],
         "showgrid": true
        },
        "yaxis2": {
         "anchor": "x2",
         "domain": [
          0.6000000000000001,
          1
         ],
         "showgrid": true
        },
        "yaxis3": {
         "anchor": "x3",
         "domain": [
          0.6000000000000001,
          1
         ],
         "showgrid": true
        },
        "yaxis4": {
         "anchor": "x4",
         "domain": [
          0.6000000000000001,
          1
         ],
         "showgrid": true
        },
        "yaxis5": {
         "anchor": "x5",
         "domain": [
          0,
          0.4
         ],
         "showgrid": true
        },
        "yaxis6": {
         "anchor": "x6",
         "domain": [
          0,
          0.4
         ],
         "showgrid": true
        },
        "yaxis7": {
         "anchor": "x7",
         "domain": [
          0,
          0.4
         ],
         "showgrid": true
        },
        "yaxis8": {
         "anchor": "x8",
         "domain": [
          0,
          0.4
         ],
         "showgrid": true
        }
       }
      },
      "text/html": [
       "<div>                        <script type=\"text/javascript\">window.PlotlyConfig = {MathJaxConfig: 'local'};</script>\n",
       "        <script charset=\"utf-8\" src=\"https://cdn.plot.ly/plotly-2.32.0.min.js\"></script>                <div id=\"fef632bb-da7f-499f-b801-868c4ee6e75d\" class=\"plotly-graph-div\" style=\"height:500px; width:1000px;\"></div>            <script type=\"text/javascript\">                                    window.PLOTLYENV=window.PLOTLYENV || {};                                    if (document.getElementById(\"fef632bb-da7f-499f-b801-868c4ee6e75d\")) {                    Plotly.newPlot(                        \"fef632bb-da7f-499f-b801-868c4ee6e75d\",                        [{\"marker\":{\"color\":\"#D55E00\"},\"orientation\":\"h\",\"x\":[0.037131005185617315,0.03870505085012905,0.04838131356266131,0.06520980884150068,0.15542858344379162],\"y\":[\"naiknya  \",\"kagok  \",\"transitnya  \",\"dimana  \",\"transit  \"],\"type\":\"bar\",\"xaxis\":\"x\",\"yaxis\":\"y\"},{\"marker\":{\"color\":\"#0072B2\"},\"orientation\":\"h\",\"x\":[0.03313005769758442,0.03313005769758442,0.03523053130217995,0.04495934564920288,0.15338482675656637],\"y\":[\"kuota  \",\"hendrarprihadi  \",\"banyumanik  \",\"ugalan  \",\"feeder  \"],\"type\":\"bar\",\"xaxis\":\"x2\",\"yaxis\":\"y2\"},{\"marker\":{\"color\":\"#CC79A7\"},\"orientation\":\"h\",\"x\":[0.050122126770944964,0.050515601072051046,0.050515601072051046,0.06465094139003431,0.06901001766052263],\"y\":[\"jam  \",\"kak  \",\"tawang  \",\"sore  \",\"acnya  \"],\"type\":\"bar\",\"xaxis\":\"x3\",\"yaxis\":\"y3\"},{\"marker\":{\"color\":\"#E69F00\"},\"orientation\":\"h\",\"x\":[0.0540187883603975,0.06567973973100942,0.08397067369221392,0.09553150336244433,0.12550649580312462],\"y\":[\"tanah  \",\"imam  \",\"info  \",\"balaikota  \",\"halte  \"],\"type\":\"bar\",\"xaxis\":\"x4\",\"yaxis\":\"y4\"},{\"marker\":{\"color\":\"#56B4E9\"},\"orientation\":\"h\",\"x\":[0.04562171879667363,0.04562171879667363,0.04562171879667363,0.0708238943256928,0.09943262225364514],\"y\":[\"teman  \",\"memfasilitasi  \",\"gading  \",\"semarang  \",\"kota  \"],\"type\":\"bar\",\"xaxis\":\"x5\",\"yaxis\":\"y5\"},{\"marker\":{\"color\":\"#009E73\"},\"orientation\":\"h\",\"x\":[0.02869122684503463,0.029348661084543648,0.03513233998054072,0.0845868253615579,0.08505407624337102],\"y\":[\"layanan  \",\"trans  \",\"cangkiran  \",\"iv  \",\"bus  \"],\"type\":\"bar\",\"xaxis\":\"x6\",\"yaxis\":\"y6\"},{\"marker\":{\"color\":\"#F0E442\"},\"orientation\":\"h\",\"x\":[0.039012965139211556,0.049016461142053463,0.049016461142053463,0.05294278085793983,0.0529572587674059],\"y\":[\"karna  \",\"berlaku  \",\"ts  \",\"ngerasain  \",\"khusus  \"],\"type\":\"bar\",\"xaxis\":\"x7\",\"yaxis\":\"y7\"},{\"marker\":{\"color\":\"#D55E00\"},\"orientation\":\"h\",\"x\":[0.05186202568556011,0.05636885008348793,0.05980671039463348,0.07951213847420262,0.07951213847420262],\"y\":[\"terdekat  \",\"jurusan  \",\"dimana  \",\"max  \",\"alun  \"],\"type\":\"bar\",\"xaxis\":\"x8\",\"yaxis\":\"y8\"}],                        {\"template\":{\"data\":{\"barpolar\":[{\"marker\":{\"line\":{\"color\":\"white\",\"width\":0.5},\"pattern\":{\"fillmode\":\"overlay\",\"size\":10,\"solidity\":0.2}},\"type\":\"barpolar\"}],\"bar\":[{\"error_x\":{\"color\":\"#2a3f5f\"},\"error_y\":{\"color\":\"#2a3f5f\"},\"marker\":{\"line\":{\"color\":\"white\",\"width\":0.5},\"pattern\":{\"fillmode\":\"overlay\",\"size\":10,\"solidity\":0.2}},\"type\":\"bar\"}],\"carpet\":[{\"aaxis\":{\"endlinecolor\":\"#2a3f5f\",\"gridcolor\":\"#C8D4E3\",\"linecolor\":\"#C8D4E3\",\"minorgridcolor\":\"#C8D4E3\",\"startlinecolor\":\"#2a3f5f\"},\"baxis\":{\"endlinecolor\":\"#2a3f5f\",\"gridcolor\":\"#C8D4E3\",\"linecolor\":\"#C8D4E3\",\"minorgridcolor\":\"#C8D4E3\",\"startlinecolor\":\"#2a3f5f\"},\"type\":\"carpet\"}],\"choropleth\":[{\"colorbar\":{\"outlinewidth\":0,\"ticks\":\"\"},\"type\":\"choropleth\"}],\"contourcarpet\":[{\"colorbar\":{\"outlinewidth\":0,\"ticks\":\"\"},\"type\":\"contourcarpet\"}],\"contour\":[{\"colorbar\":{\"outlinewidth\":0,\"ticks\":\"\"},\"colorscale\":[[0.0,\"#0d0887\"],[0.1111111111111111,\"#46039f\"],[0.2222222222222222,\"#7201a8\"],[0.3333333333333333,\"#9c179e\"],[0.4444444444444444,\"#bd3786\"],[0.5555555555555556,\"#d8576b\"],[0.6666666666666666,\"#ed7953\"],[0.7777777777777778,\"#fb9f3a\"],[0.8888888888888888,\"#fdca26\"],[1.0,\"#f0f921\"]],\"type\":\"contour\"}],\"heatmapgl\":[{\"colorbar\":{\"outlinewidth\":0,\"ticks\":\"\"},\"colorscale\":[[0.0,\"#0d0887\"],[0.1111111111111111,\"#46039f\"],[0.2222222222222222,\"#7201a8\"],[0.3333333333333333,\"#9c179e\"],[0.4444444444444444,\"#bd3786\"],[0.5555555555555556,\"#d8576b\"],[0.6666666666666666,\"#ed7953\"],[0.7777777777777778,\"#fb9f3a\"],[0.8888888888888888,\"#fdca26\"],[1.0,\"#f0f921\"]],\"type\":\"heatmapgl\"}],\"heatmap\":[{\"colorbar\":{\"outlinewidth\":0,\"ticks\":\"\"},\"colorscale\":[[0.0,\"#0d0887\"],[0.1111111111111111,\"#46039f\"],[0.2222222222222222,\"#7201a8\"],[0.3333333333333333,\"#9c179e\"],[0.4444444444444444,\"#bd3786\"],[0.5555555555555556,\"#d8576b\"],[0.6666666666666666,\"#ed7953\"],[0.7777777777777778,\"#fb9f3a\"],[0.8888888888888888,\"#fdca26\"],[1.0,\"#f0f921\"]],\"type\":\"heatmap\"}],\"histogram2dcontour\":[{\"colorbar\":{\"outlinewidth\":0,\"ticks\":\"\"},\"colorscale\":[[0.0,\"#0d0887\"],[0.1111111111111111,\"#46039f\"],[0.2222222222222222,\"#7201a8\"],[0.3333333333333333,\"#9c179e\"],[0.4444444444444444,\"#bd3786\"],[0.5555555555555556,\"#d8576b\"],[0.6666666666666666,\"#ed7953\"],[0.7777777777777778,\"#fb9f3a\"],[0.8888888888888888,\"#fdca26\"],[1.0,\"#f0f921\"]],\"type\":\"histogram2dcontour\"}],\"histogram2d\":[{\"colorbar\":{\"outlinewidth\":0,\"ticks\":\"\"},\"colorscale\":[[0.0,\"#0d0887\"],[0.1111111111111111,\"#46039f\"],[0.2222222222222222,\"#7201a8\"],[0.3333333333333333,\"#9c179e\"],[0.4444444444444444,\"#bd3786\"],[0.5555555555555556,\"#d8576b\"],[0.6666666666666666,\"#ed7953\"],[0.7777777777777778,\"#fb9f3a\"],[0.8888888888888888,\"#fdca26\"],[1.0,\"#f0f921\"]],\"type\":\"histogram2d\"}],\"histogram\":[{\"marker\":{\"pattern\":{\"fillmode\":\"overlay\",\"size\":10,\"solidity\":0.2}},\"type\":\"histogram\"}],\"mesh3d\":[{\"colorbar\":{\"outlinewidth\":0,\"ticks\":\"\"},\"type\":\"mesh3d\"}],\"parcoords\":[{\"line\":{\"colorbar\":{\"outlinewidth\":0,\"ticks\":\"\"}},\"type\":\"parcoords\"}],\"pie\":[{\"automargin\":true,\"type\":\"pie\"}],\"scatter3d\":[{\"line\":{\"colorbar\":{\"outlinewidth\":0,\"ticks\":\"\"}},\"marker\":{\"colorbar\":{\"outlinewidth\":0,\"ticks\":\"\"}},\"type\":\"scatter3d\"}],\"scattercarpet\":[{\"marker\":{\"colorbar\":{\"outlinewidth\":0,\"ticks\":\"\"}},\"type\":\"scattercarpet\"}],\"scattergeo\":[{\"marker\":{\"colorbar\":{\"outlinewidth\":0,\"ticks\":\"\"}},\"type\":\"scattergeo\"}],\"scattergl\":[{\"marker\":{\"colorbar\":{\"outlinewidth\":0,\"ticks\":\"\"}},\"type\":\"scattergl\"}],\"scattermapbox\":[{\"marker\":{\"colorbar\":{\"outlinewidth\":0,\"ticks\":\"\"}},\"type\":\"scattermapbox\"}],\"scatterpolargl\":[{\"marker\":{\"colorbar\":{\"outlinewidth\":0,\"ticks\":\"\"}},\"type\":\"scatterpolargl\"}],\"scatterpolar\":[{\"marker\":{\"colorbar\":{\"outlinewidth\":0,\"ticks\":\"\"}},\"type\":\"scatterpolar\"}],\"scatter\":[{\"fillpattern\":{\"fillmode\":\"overlay\",\"size\":10,\"solidity\":0.2},\"type\":\"scatter\"}],\"scatterternary\":[{\"marker\":{\"colorbar\":{\"outlinewidth\":0,\"ticks\":\"\"}},\"type\":\"scatterternary\"}],\"surface\":[{\"colorbar\":{\"outlinewidth\":0,\"ticks\":\"\"},\"colorscale\":[[0.0,\"#0d0887\"],[0.1111111111111111,\"#46039f\"],[0.2222222222222222,\"#7201a8\"],[0.3333333333333333,\"#9c179e\"],[0.4444444444444444,\"#bd3786\"],[0.5555555555555556,\"#d8576b\"],[0.6666666666666666,\"#ed7953\"],[0.7777777777777778,\"#fb9f3a\"],[0.8888888888888888,\"#fdca26\"],[1.0,\"#f0f921\"]],\"type\":\"surface\"}],\"table\":[{\"cells\":{\"fill\":{\"color\":\"#EBF0F8\"},\"line\":{\"color\":\"white\"}},\"header\":{\"fill\":{\"color\":\"#C8D4E3\"},\"line\":{\"color\":\"white\"}},\"type\":\"table\"}]},\"layout\":{\"annotationdefaults\":{\"arrowcolor\":\"#2a3f5f\",\"arrowhead\":0,\"arrowwidth\":1},\"autotypenumbers\":\"strict\",\"coloraxis\":{\"colorbar\":{\"outlinewidth\":0,\"ticks\":\"\"}},\"colorscale\":{\"diverging\":[[0,\"#8e0152\"],[0.1,\"#c51b7d\"],[0.2,\"#de77ae\"],[0.3,\"#f1b6da\"],[0.4,\"#fde0ef\"],[0.5,\"#f7f7f7\"],[0.6,\"#e6f5d0\"],[0.7,\"#b8e186\"],[0.8,\"#7fbc41\"],[0.9,\"#4d9221\"],[1,\"#276419\"]],\"sequential\":[[0.0,\"#0d0887\"],[0.1111111111111111,\"#46039f\"],[0.2222222222222222,\"#7201a8\"],[0.3333333333333333,\"#9c179e\"],[0.4444444444444444,\"#bd3786\"],[0.5555555555555556,\"#d8576b\"],[0.6666666666666666,\"#ed7953\"],[0.7777777777777778,\"#fb9f3a\"],[0.8888888888888888,\"#fdca26\"],[1.0,\"#f0f921\"]],\"sequentialminus\":[[0.0,\"#0d0887\"],[0.1111111111111111,\"#46039f\"],[0.2222222222222222,\"#7201a8\"],[0.3333333333333333,\"#9c179e\"],[0.4444444444444444,\"#bd3786\"],[0.5555555555555556,\"#d8576b\"],[0.6666666666666666,\"#ed7953\"],[0.7777777777777778,\"#fb9f3a\"],[0.8888888888888888,\"#fdca26\"],[1.0,\"#f0f921\"]]},\"colorway\":[\"#636efa\",\"#EF553B\",\"#00cc96\",\"#ab63fa\",\"#FFA15A\",\"#19d3f3\",\"#FF6692\",\"#B6E880\",\"#FF97FF\",\"#FECB52\"],\"font\":{\"color\":\"#2a3f5f\"},\"geo\":{\"bgcolor\":\"white\",\"lakecolor\":\"white\",\"landcolor\":\"white\",\"showlakes\":true,\"showland\":true,\"subunitcolor\":\"#C8D4E3\"},\"hoverlabel\":{\"align\":\"left\"},\"hovermode\":\"closest\",\"mapbox\":{\"style\":\"light\"},\"paper_bgcolor\":\"white\",\"plot_bgcolor\":\"white\",\"polar\":{\"angularaxis\":{\"gridcolor\":\"#EBF0F8\",\"linecolor\":\"#EBF0F8\",\"ticks\":\"\"},\"bgcolor\":\"white\",\"radialaxis\":{\"gridcolor\":\"#EBF0F8\",\"linecolor\":\"#EBF0F8\",\"ticks\":\"\"}},\"scene\":{\"xaxis\":{\"backgroundcolor\":\"white\",\"gridcolor\":\"#DFE8F3\",\"gridwidth\":2,\"linecolor\":\"#EBF0F8\",\"showbackground\":true,\"ticks\":\"\",\"zerolinecolor\":\"#EBF0F8\"},\"yaxis\":{\"backgroundcolor\":\"white\",\"gridcolor\":\"#DFE8F3\",\"gridwidth\":2,\"linecolor\":\"#EBF0F8\",\"showbackground\":true,\"ticks\":\"\",\"zerolinecolor\":\"#EBF0F8\"},\"zaxis\":{\"backgroundcolor\":\"white\",\"gridcolor\":\"#DFE8F3\",\"gridwidth\":2,\"linecolor\":\"#EBF0F8\",\"showbackground\":true,\"ticks\":\"\",\"zerolinecolor\":\"#EBF0F8\"}},\"shapedefaults\":{\"line\":{\"color\":\"#2a3f5f\"}},\"ternary\":{\"aaxis\":{\"gridcolor\":\"#DFE8F3\",\"linecolor\":\"#A2B1C6\",\"ticks\":\"\"},\"baxis\":{\"gridcolor\":\"#DFE8F3\",\"linecolor\":\"#A2B1C6\",\"ticks\":\"\"},\"bgcolor\":\"white\",\"caxis\":{\"gridcolor\":\"#DFE8F3\",\"linecolor\":\"#A2B1C6\",\"ticks\":\"\"}},\"title\":{\"x\":0.05},\"xaxis\":{\"automargin\":true,\"gridcolor\":\"#EBF0F8\",\"linecolor\":\"#EBF0F8\",\"ticks\":\"\",\"title\":{\"standoff\":15},\"zerolinecolor\":\"#EBF0F8\",\"zerolinewidth\":2},\"yaxis\":{\"automargin\":true,\"gridcolor\":\"#EBF0F8\",\"linecolor\":\"#EBF0F8\",\"ticks\":\"\",\"title\":{\"standoff\":15},\"zerolinecolor\":\"#EBF0F8\",\"zerolinewidth\":2}}},\"xaxis\":{\"anchor\":\"y\",\"domain\":[0.0,0.175],\"showgrid\":true},\"yaxis\":{\"anchor\":\"x\",\"domain\":[0.6000000000000001,1.0],\"showgrid\":true},\"xaxis2\":{\"anchor\":\"y2\",\"domain\":[0.275,0.45],\"showgrid\":true},\"yaxis2\":{\"anchor\":\"x2\",\"domain\":[0.6000000000000001,1.0],\"showgrid\":true},\"xaxis3\":{\"anchor\":\"y3\",\"domain\":[0.55,0.7250000000000001],\"showgrid\":true},\"yaxis3\":{\"anchor\":\"x3\",\"domain\":[0.6000000000000001,1.0],\"showgrid\":true},\"xaxis4\":{\"anchor\":\"y4\",\"domain\":[0.825,1.0],\"showgrid\":true},\"yaxis4\":{\"anchor\":\"x4\",\"domain\":[0.6000000000000001,1.0],\"showgrid\":true},\"xaxis5\":{\"anchor\":\"y5\",\"domain\":[0.0,0.175],\"showgrid\":true},\"yaxis5\":{\"anchor\":\"x5\",\"domain\":[0.0,0.4],\"showgrid\":true},\"xaxis6\":{\"anchor\":\"y6\",\"domain\":[0.275,0.45],\"showgrid\":true},\"yaxis6\":{\"anchor\":\"x6\",\"domain\":[0.0,0.4],\"showgrid\":true},\"xaxis7\":{\"anchor\":\"y7\",\"domain\":[0.55,0.7250000000000001],\"showgrid\":true},\"yaxis7\":{\"anchor\":\"x7\",\"domain\":[0.0,0.4],\"showgrid\":true},\"xaxis8\":{\"anchor\":\"y8\",\"domain\":[0.825,1.0],\"showgrid\":true},\"yaxis8\":{\"anchor\":\"x8\",\"domain\":[0.0,0.4],\"showgrid\":true},\"annotations\":[{\"font\":{\"size\":16},\"showarrow\":false,\"text\":\"Topic 0\",\"x\":0.0875,\"xanchor\":\"center\",\"xref\":\"paper\",\"y\":1.0,\"yanchor\":\"bottom\",\"yref\":\"paper\"},{\"font\":{\"size\":16},\"showarrow\":false,\"text\":\"Topic 1\",\"x\":0.36250000000000004,\"xanchor\":\"center\",\"xref\":\"paper\",\"y\":1.0,\"yanchor\":\"bottom\",\"yref\":\"paper\"},{\"font\":{\"size\":16},\"showarrow\":false,\"text\":\"Topic 2\",\"x\":0.6375000000000001,\"xanchor\":\"center\",\"xref\":\"paper\",\"y\":1.0,\"yanchor\":\"bottom\",\"yref\":\"paper\"},{\"font\":{\"size\":16},\"showarrow\":false,\"text\":\"Topic 3\",\"x\":0.9125,\"xanchor\":\"center\",\"xref\":\"paper\",\"y\":1.0,\"yanchor\":\"bottom\",\"yref\":\"paper\"},{\"font\":{\"size\":16},\"showarrow\":false,\"text\":\"Topic 4\",\"x\":0.0875,\"xanchor\":\"center\",\"xref\":\"paper\",\"y\":0.4,\"yanchor\":\"bottom\",\"yref\":\"paper\"},{\"font\":{\"size\":16},\"showarrow\":false,\"text\":\"Topic 5\",\"x\":0.36250000000000004,\"xanchor\":\"center\",\"xref\":\"paper\",\"y\":0.4,\"yanchor\":\"bottom\",\"yref\":\"paper\"},{\"font\":{\"size\":16},\"showarrow\":false,\"text\":\"Topic 6\",\"x\":0.6375000000000001,\"xanchor\":\"center\",\"xref\":\"paper\",\"y\":0.4,\"yanchor\":\"bottom\",\"yref\":\"paper\"},{\"font\":{\"size\":16},\"showarrow\":false,\"text\":\"Topic 7\",\"x\":0.9125,\"xanchor\":\"center\",\"xref\":\"paper\",\"y\":0.4,\"yanchor\":\"bottom\",\"yref\":\"paper\"}],\"title\":{\"font\":{\"size\":22,\"color\":\"Black\"},\"text\":\"Topic Word Scores\",\"x\":0.5,\"xanchor\":\"center\",\"yanchor\":\"top\"},\"hoverlabel\":{\"font\":{\"size\":16,\"family\":\"Rockwell\"},\"bgcolor\":\"white\"},\"showlegend\":false,\"width\":1000,\"height\":500},                        {\"responsive\": true}                    )                };                            </script>        </div>"
      ],
      "text/plain": [
       "Figure({\n",
       "    'data': [{'marker': {'color': '#D55E00'},\n",
       "              'orientation': 'h',\n",
       "              'type': 'bar',\n",
       "              'x': [0.037131005185617315, 0.03870505085012905,\n",
       "                    0.04838131356266131, 0.06520980884150068, 0.15542858344379162],\n",
       "              'xaxis': 'x',\n",
       "              'y': [naiknya  , kagok  , transitnya  , dimana  , transit  ],\n",
       "              'yaxis': 'y'},\n",
       "             {'marker': {'color': '#0072B2'},\n",
       "              'orientation': 'h',\n",
       "              'type': 'bar',\n",
       "              'x': [0.03313005769758442, 0.03313005769758442, 0.03523053130217995,\n",
       "                    0.04495934564920288, 0.15338482675656637],\n",
       "              'xaxis': 'x2',\n",
       "              'y': [kuota  , hendrarprihadi  , banyumanik  , ugalan  , feeder  ],\n",
       "              'yaxis': 'y2'},\n",
       "             {'marker': {'color': '#CC79A7'},\n",
       "              'orientation': 'h',\n",
       "              'type': 'bar',\n",
       "              'x': [0.050122126770944964, 0.050515601072051046,\n",
       "                    0.050515601072051046, 0.06465094139003431, 0.06901001766052263],\n",
       "              'xaxis': 'x3',\n",
       "              'y': [jam  , kak  , tawang  , sore  , acnya  ],\n",
       "              'yaxis': 'y3'},\n",
       "             {'marker': {'color': '#E69F00'},\n",
       "              'orientation': 'h',\n",
       "              'type': 'bar',\n",
       "              'x': [0.0540187883603975, 0.06567973973100942, 0.08397067369221392,\n",
       "                    0.09553150336244433, 0.12550649580312462],\n",
       "              'xaxis': 'x4',\n",
       "              'y': [tanah  , imam  , info  , balaikota  , halte  ],\n",
       "              'yaxis': 'y4'},\n",
       "             {'marker': {'color': '#56B4E9'},\n",
       "              'orientation': 'h',\n",
       "              'type': 'bar',\n",
       "              'x': [0.04562171879667363, 0.04562171879667363, 0.04562171879667363,\n",
       "                    0.0708238943256928, 0.09943262225364514],\n",
       "              'xaxis': 'x5',\n",
       "              'y': [teman  , memfasilitasi  , gading  , semarang  , kota  ],\n",
       "              'yaxis': 'y5'},\n",
       "             {'marker': {'color': '#009E73'},\n",
       "              'orientation': 'h',\n",
       "              'type': 'bar',\n",
       "              'x': [0.02869122684503463, 0.029348661084543648,\n",
       "                    0.03513233998054072, 0.0845868253615579, 0.08505407624337102],\n",
       "              'xaxis': 'x6',\n",
       "              'y': [layanan  , trans  , cangkiran  , iv  , bus  ],\n",
       "              'yaxis': 'y6'},\n",
       "             {'marker': {'color': '#F0E442'},\n",
       "              'orientation': 'h',\n",
       "              'type': 'bar',\n",
       "              'x': [0.039012965139211556, 0.049016461142053463,\n",
       "                    0.049016461142053463, 0.05294278085793983, 0.0529572587674059],\n",
       "              'xaxis': 'x7',\n",
       "              'y': [karna  , berlaku  , ts  , ngerasain  , khusus  ],\n",
       "              'yaxis': 'y7'},\n",
       "             {'marker': {'color': '#D55E00'},\n",
       "              'orientation': 'h',\n",
       "              'type': 'bar',\n",
       "              'x': [0.05186202568556011, 0.05636885008348793, 0.05980671039463348,\n",
       "                    0.07951213847420262, 0.07951213847420262],\n",
       "              'xaxis': 'x8',\n",
       "              'y': [terdekat  , jurusan  , dimana  , max  , alun  ],\n",
       "              'yaxis': 'y8'}],\n",
       "    'layout': {'annotations': [{'font': {'size': 16},\n",
       "                                'showarrow': False,\n",
       "                                'text': 'Topic 0',\n",
       "                                'x': 0.0875,\n",
       "                                'xanchor': 'center',\n",
       "                                'xref': 'paper',\n",
       "                                'y': 1.0,\n",
       "                                'yanchor': 'bottom',\n",
       "                                'yref': 'paper'},\n",
       "                               {'font': {'size': 16},\n",
       "                                'showarrow': False,\n",
       "                                'text': 'Topic 1',\n",
       "                                'x': 0.36250000000000004,\n",
       "                                'xanchor': 'center',\n",
       "                                'xref': 'paper',\n",
       "                                'y': 1.0,\n",
       "                                'yanchor': 'bottom',\n",
       "                                'yref': 'paper'},\n",
       "                               {'font': {'size': 16},\n",
       "                                'showarrow': False,\n",
       "                                'text': 'Topic 2',\n",
       "                                'x': 0.6375000000000001,\n",
       "                                'xanchor': 'center',\n",
       "                                'xref': 'paper',\n",
       "                                'y': 1.0,\n",
       "                                'yanchor': 'bottom',\n",
       "                                'yref': 'paper'},\n",
       "                               {'font': {'size': 16},\n",
       "                                'showarrow': False,\n",
       "                                'text': 'Topic 3',\n",
       "                                'x': 0.9125,\n",
       "                                'xanchor': 'center',\n",
       "                                'xref': 'paper',\n",
       "                                'y': 1.0,\n",
       "                                'yanchor': 'bottom',\n",
       "                                'yref': 'paper'},\n",
       "                               {'font': {'size': 16},\n",
       "                                'showarrow': False,\n",
       "                                'text': 'Topic 4',\n",
       "                                'x': 0.0875,\n",
       "                                'xanchor': 'center',\n",
       "                                'xref': 'paper',\n",
       "                                'y': 0.4,\n",
       "                                'yanchor': 'bottom',\n",
       "                                'yref': 'paper'},\n",
       "                               {'font': {'size': 16},\n",
       "                                'showarrow': False,\n",
       "                                'text': 'Topic 5',\n",
       "                                'x': 0.36250000000000004,\n",
       "                                'xanchor': 'center',\n",
       "                                'xref': 'paper',\n",
       "                                'y': 0.4,\n",
       "                                'yanchor': 'bottom',\n",
       "                                'yref': 'paper'},\n",
       "                               {'font': {'size': 16},\n",
       "                                'showarrow': False,\n",
       "                                'text': 'Topic 6',\n",
       "                                'x': 0.6375000000000001,\n",
       "                                'xanchor': 'center',\n",
       "                                'xref': 'paper',\n",
       "                                'y': 0.4,\n",
       "                                'yanchor': 'bottom',\n",
       "                                'yref': 'paper'},\n",
       "                               {'font': {'size': 16},\n",
       "                                'showarrow': False,\n",
       "                                'text': 'Topic 7',\n",
       "                                'x': 0.9125,\n",
       "                                'xanchor': 'center',\n",
       "                                'xref': 'paper',\n",
       "                                'y': 0.4,\n",
       "                                'yanchor': 'bottom',\n",
       "                                'yref': 'paper'}],\n",
       "               'height': 500,\n",
       "               'hoverlabel': {'bgcolor': 'white', 'font': {'family': 'Rockwell', 'size': 16}},\n",
       "               'showlegend': False,\n",
       "               'template': '...',\n",
       "               'title': {'font': {'color': 'Black', 'size': 22},\n",
       "                         'text': 'Topic Word Scores',\n",
       "                         'x': 0.5,\n",
       "                         'xanchor': 'center',\n",
       "                         'yanchor': 'top'},\n",
       "               'width': 1000,\n",
       "               'xaxis': {'anchor': 'y', 'domain': [0.0, 0.175], 'showgrid': True},\n",
       "               'xaxis2': {'anchor': 'y2', 'domain': [0.275, 0.45], 'showgrid': True},\n",
       "               'xaxis3': {'anchor': 'y3', 'domain': [0.55, 0.7250000000000001], 'showgrid': True},\n",
       "               'xaxis4': {'anchor': 'y4', 'domain': [0.825, 1.0], 'showgrid': True},\n",
       "               'xaxis5': {'anchor': 'y5', 'domain': [0.0, 0.175], 'showgrid': True},\n",
       "               'xaxis6': {'anchor': 'y6', 'domain': [0.275, 0.45], 'showgrid': True},\n",
       "               'xaxis7': {'anchor': 'y7', 'domain': [0.55, 0.7250000000000001], 'showgrid': True},\n",
       "               'xaxis8': {'anchor': 'y8', 'domain': [0.825, 1.0], 'showgrid': True},\n",
       "               'yaxis': {'anchor': 'x', 'domain': [0.6000000000000001, 1.0], 'showgrid': True},\n",
       "               'yaxis2': {'anchor': 'x2', 'domain': [0.6000000000000001, 1.0], 'showgrid': True},\n",
       "               'yaxis3': {'anchor': 'x3', 'domain': [0.6000000000000001, 1.0], 'showgrid': True},\n",
       "               'yaxis4': {'anchor': 'x4', 'domain': [0.6000000000000001, 1.0], 'showgrid': True},\n",
       "               'yaxis5': {'anchor': 'x5', 'domain': [0.0, 0.4], 'showgrid': True},\n",
       "               'yaxis6': {'anchor': 'x6', 'domain': [0.0, 0.4], 'showgrid': True},\n",
       "               'yaxis7': {'anchor': 'x7', 'domain': [0.0, 0.4], 'showgrid': True},\n",
       "               'yaxis8': {'anchor': 'x8', 'domain': [0.0, 0.4], 'showgrid': True}}\n",
       "})"
      ]
     },
     "execution_count": 6,
     "metadata": {},
     "output_type": "execute_result"
    }
   ],
   "source": [
    "topic_model.visualize_barchart()"
   ]
  },
  {
   "cell_type": "code",
   "execution_count": 10,
   "metadata": {},
   "outputs": [
    {
     "data": {
      "text/html": [
       "<div>\n",
       "<style scoped>\n",
       "    .dataframe tbody tr th:only-of-type {\n",
       "        vertical-align: middle;\n",
       "    }\n",
       "\n",
       "    .dataframe tbody tr th {\n",
       "        vertical-align: top;\n",
       "    }\n",
       "\n",
       "    .dataframe thead th {\n",
       "        text-align: right;\n",
       "    }\n",
       "</style>\n",
       "<table border=\"1\" class=\"dataframe\">\n",
       "  <thead>\n",
       "    <tr style=\"text-align: right;\">\n",
       "      <th></th>\n",
       "      <th>Count</th>\n",
       "      <th>Name</th>\n",
       "      <th>Representation</th>\n",
       "    </tr>\n",
       "    <tr>\n",
       "      <th>Topic</th>\n",
       "      <th></th>\n",
       "      <th></th>\n",
       "      <th></th>\n",
       "    </tr>\n",
       "  </thead>\n",
       "  <tbody>\n",
       "    <tr>\n",
       "      <th>-1</th>\n",
       "      <td>127</td>\n",
       "      <td>-1_bis_jalan_brt_koridor</td>\n",
       "      <td>[bis, jalan, brt, koridor, gt, halo, bus, simp...</td>\n",
       "    </tr>\n",
       "    <tr>\n",
       "      <th>0</th>\n",
       "      <td>32</td>\n",
       "      <td>0_transit_dimana_transitnya_kagok</td>\n",
       "      <td>[transit, dimana, transitnya, kagok, naiknya, ...</td>\n",
       "    </tr>\n",
       "    <tr>\n",
       "      <th>1</th>\n",
       "      <td>22</td>\n",
       "      <td>1_feeder_ugalan_banyumanik_hendrarprihadi</td>\n",
       "      <td>[feeder, ugalan, banyumanik, hendrarprihadi, k...</td>\n",
       "    </tr>\n",
       "    <tr>\n",
       "      <th>2</th>\n",
       "      <td>16</td>\n",
       "      <td>2_acnya_sore_tawang_kak</td>\n",
       "      <td>[acnya, sore, tawang, kak, jam, stasiun, ungar...</td>\n",
       "    </tr>\n",
       "    <tr>\n",
       "      <th>3</th>\n",
       "      <td>14</td>\n",
       "      <td>3_halte_balaikota_info_imam</td>\n",
       "      <td>[halte, balaikota, info, imam, tanah, sma, put...</td>\n",
       "    </tr>\n",
       "    <tr>\n",
       "      <th>4</th>\n",
       "      <td>14</td>\n",
       "      <td>4_kota_semarang_gading_memfasilitasi</td>\n",
       "      <td>[kota, semarang, gading, memfasilitasi, teman,...</td>\n",
       "    </tr>\n",
       "    <tr>\n",
       "      <th>5</th>\n",
       "      <td>14</td>\n",
       "      <td>5_bus_iv_cangkiran_trans</td>\n",
       "      <td>[bus, iv, cangkiran, trans, layanan, out, day,...</td>\n",
       "    </tr>\n",
       "  </tbody>\n",
       "</table>\n",
       "</div>"
      ],
      "text/plain": [
       "       Count                                       Name  \\\n",
       "Topic                                                     \n",
       "-1       127                   -1_bis_jalan_brt_koridor   \n",
       " 0        32          0_transit_dimana_transitnya_kagok   \n",
       " 1        22  1_feeder_ugalan_banyumanik_hendrarprihadi   \n",
       " 2        16                    2_acnya_sore_tawang_kak   \n",
       " 3        14                3_halte_balaikota_info_imam   \n",
       " 4        14       4_kota_semarang_gading_memfasilitasi   \n",
       " 5        14                   5_bus_iv_cangkiran_trans   \n",
       "\n",
       "                                          Representation  \n",
       "Topic                                                     \n",
       "-1     [bis, jalan, brt, koridor, gt, halo, bus, simp...  \n",
       " 0     [transit, dimana, transitnya, kagok, naiknya, ...  \n",
       " 1     [feeder, ugalan, banyumanik, hendrarprihadi, k...  \n",
       " 2     [acnya, sore, tawang, kak, jam, stasiun, ungar...  \n",
       " 3     [halte, balaikota, info, imam, tanah, sma, put...  \n",
       " 4     [kota, semarang, gading, memfasilitasi, teman,...  \n",
       " 5     [bus, iv, cangkiran, trans, layanan, out, day,...  "
      ]
     },
     "execution_count": 10,
     "metadata": {},
     "output_type": "execute_result"
    }
   ],
   "source": [
    "topic_model.get_topic_info().head(7).set_index('Topic')[['Count', 'Name', 'Representation']]"
   ]
  },
  {
   "cell_type": "code",
   "execution_count": 11,
   "metadata": {},
   "outputs": [
    {
     "data": {
      "text/plain": [
       "0    [bis, jalan, brt, koridor, gt, halo, bus, simp...\n",
       "1    [transit, dimana, transitnya, kagok, naiknya, ...\n",
       "2    [feeder, ugalan, banyumanik, hendrarprihadi, k...\n",
       "3    [acnya, sore, tawang, kak, jam, stasiun, ungar...\n",
       "4    [halte, balaikota, info, imam, tanah, sma, put...\n",
       "5    [kota, semarang, gading, memfasilitasi, teman,...\n",
       "6    [bus, iv, cangkiran, trans, layanan, out, day,...\n",
       "7    [khusus, ngerasain, ts, berlaku, karna, cm, no...\n",
       "8    [alun, max, dimana, jurusan, terdekat, turun, ...\n",
       "9    [tanah, putih, halte, gimana, polines, undip, ...\n",
       "Name: Representation, dtype: object"
      ]
     },
     "execution_count": 11,
     "metadata": {},
     "output_type": "execute_result"
    }
   ],
   "source": [
    "topic_model.get_topic_info()['Representation'][:10]"
   ]
  },
  {
   "cell_type": "code",
   "execution_count": 12,
   "metadata": {},
   "outputs": [
    {
     "name": "stdout",
     "output_type": "stream",
     "text": [
      "Document 0 is assigned to Topic 38 with probability 1.0\n",
      "Document 1 is assigned to Topic 1 with probability 0.8379637575041963\n",
      "Document 2 is assigned to Topic 11 with probability 0.9650978905273307\n",
      "Document 3 is assigned to Topic 22 with probability 0.8559407953382454\n",
      "Document 4 is assigned to Topic 16 with probability 0.7894281219261419\n",
      "Document 5 is assigned to Topic -1 with probability 0.0\n",
      "Document 6 is assigned to Topic 24 with probability 1.0\n",
      "Document 7 is assigned to Topic 8 with probability 1.0\n",
      "Document 8 is assigned to Topic 17 with probability 0.7477426499580687\n",
      "Document 9 is assigned to Topic 5 with probability 0.6961547281840768\n",
      "Document 10 is assigned to Topic 2 with probability 0.9405509491565707\n",
      "Document 11 is assigned to Topic -1 with probability 0.0\n",
      "Document 12 is assigned to Topic 2 with probability 0.9121632180160653\n",
      "Document 13 is assigned to Topic 31 with probability 1.0\n",
      "Document 14 is assigned to Topic 4 with probability 0.8978263038193373\n",
      "Document 15 is assigned to Topic 6 with probability 0.9240956919677715\n",
      "Document 16 is assigned to Topic -1 with probability 0.0\n",
      "Document 17 is assigned to Topic -1 with probability 0.0\n",
      "Document 18 is assigned to Topic -1 with probability 0.0\n",
      "Document 19 is assigned to Topic -1 with probability 0.0\n",
      "Document 20 is assigned to Topic 15 with probability 0.7507300551218388\n",
      "Document 21 is assigned to Topic 15 with probability 1.0\n",
      "Document 22 is assigned to Topic 24 with probability 0.848850419598666\n",
      "Document 23 is assigned to Topic 19 with probability 0.32781371763270567\n",
      "Document 24 is assigned to Topic 1 with probability 0.9950608708957815\n",
      "Document 25 is assigned to Topic 17 with probability 1.0\n",
      "Document 26 is assigned to Topic -1 with probability 0.0\n",
      "Document 27 is assigned to Topic 18 with probability 1.0\n",
      "Document 28 is assigned to Topic 37 with probability 1.0\n",
      "Document 29 is assigned to Topic -1 with probability 0.0\n",
      "Document 30 is assigned to Topic 0 with probability 0.922809509728395\n",
      "Document 31 is assigned to Topic -1 with probability 0.0\n",
      "Document 32 is assigned to Topic -1 with probability 0.0\n",
      "Document 33 is assigned to Topic 36 with probability 1.0\n",
      "Document 34 is assigned to Topic 4 with probability 1.0\n",
      "Document 35 is assigned to Topic 3 with probability 1.0\n",
      "Document 36 is assigned to Topic 0 with probability 1.0\n",
      "Document 37 is assigned to Topic 23 with probability 0.870672343381155\n",
      "Document 38 is assigned to Topic 1 with probability 0.4636427776536346\n",
      "Document 39 is assigned to Topic 25 with probability 1.0\n",
      "Document 40 is assigned to Topic -1 with probability 0.0\n",
      "Document 41 is assigned to Topic 24 with probability 1.0\n",
      "Document 42 is assigned to Topic 14 with probability 0.8134116197246926\n",
      "Document 43 is assigned to Topic 1 with probability 1.0\n",
      "Document 44 is assigned to Topic 18 with probability 0.8318676870459114\n",
      "Document 45 is assigned to Topic 11 with probability 0.818860832872349\n",
      "Document 46 is assigned to Topic 12 with probability 1.0\n",
      "Document 47 is assigned to Topic 1 with probability 0.980302530905697\n",
      "Document 48 is assigned to Topic 5 with probability 0.8496472224135028\n",
      "Document 49 is assigned to Topic 1 with probability 0.6295179956084097\n",
      "Document 50 is assigned to Topic 9 with probability 0.9600382693021798\n",
      "Document 51 is assigned to Topic 31 with probability 1.0\n",
      "Document 52 is assigned to Topic 12 with probability 0.7004793392079006\n",
      "Document 53 is assigned to Topic -1 with probability 0.0\n",
      "Document 54 is assigned to Topic -1 with probability 0.0\n",
      "Document 55 is assigned to Topic 2 with probability 1.0\n",
      "Document 56 is assigned to Topic 2 with probability 0.8804499592970888\n",
      "Document 57 is assigned to Topic 0 with probability 1.0\n",
      "Document 58 is assigned to Topic 17 with probability 1.0\n",
      "Document 59 is assigned to Topic -1 with probability 0.0\n",
      "Document 60 is assigned to Topic 25 with probability 1.0\n",
      "Document 61 is assigned to Topic 22 with probability 1.0\n",
      "Document 62 is assigned to Topic 25 with probability 0.6970973915861833\n",
      "Document 63 is assigned to Topic 33 with probability 1.0\n",
      "Document 64 is assigned to Topic 26 with probability 1.0\n",
      "Document 65 is assigned to Topic 1 with probability 0.8981755609703255\n",
      "Document 66 is assigned to Topic -1 with probability 0.0\n",
      "Document 67 is assigned to Topic 14 with probability 0.9243319813133749\n",
      "Document 68 is assigned to Topic 22 with probability 1.0\n",
      "Document 69 is assigned to Topic 15 with probability 1.0\n",
      "Document 70 is assigned to Topic 28 with probability 1.0\n",
      "Document 71 is assigned to Topic 15 with probability 0.7574114925174223\n",
      "Document 72 is assigned to Topic 26 with probability 1.0\n",
      "Document 73 is assigned to Topic 9 with probability 0.9705327050075597\n",
      "Document 74 is assigned to Topic 14 with probability 1.0\n",
      "Document 75 is assigned to Topic -1 with probability 0.0\n",
      "Document 76 is assigned to Topic -1 with probability 0.0\n",
      "Document 77 is assigned to Topic -1 with probability 0.0\n",
      "Document 78 is assigned to Topic -1 with probability 0.0\n",
      "Document 79 is assigned to Topic -1 with probability 0.0\n",
      "Document 80 is assigned to Topic 20 with probability 1.0\n",
      "Document 81 is assigned to Topic -1 with probability 0.0\n",
      "Document 82 is assigned to Topic 20 with probability 1.0\n",
      "Document 83 is assigned to Topic 25 with probability 1.0\n",
      "Document 84 is assigned to Topic -1 with probability 0.0\n",
      "Document 85 is assigned to Topic 17 with probability 1.0\n",
      "Document 86 is assigned to Topic 2 with probability 1.0\n",
      "Document 87 is assigned to Topic -1 with probability 0.0\n",
      "Document 88 is assigned to Topic 3 with probability 0.7566021111741839\n",
      "Document 89 is assigned to Topic 31 with probability 1.0\n",
      "Document 90 is assigned to Topic -1 with probability 0.0\n",
      "Document 91 is assigned to Topic 6 with probability 0.9240956919677715\n",
      "Document 92 is assigned to Topic 36 with probability 1.0\n",
      "Document 93 is assigned to Topic 0 with probability 0.9038143927495957\n",
      "Document 94 is assigned to Topic -1 with probability 0.0\n",
      "Document 95 is assigned to Topic 38 with probability 1.0\n",
      "Document 96 is assigned to Topic 15 with probability 1.0\n",
      "Document 97 is assigned to Topic 15 with probability 0.806548318853847\n",
      "Document 98 is assigned to Topic -1 with probability 0.0\n",
      "Document 99 is assigned to Topic -1 with probability 0.0\n",
      "Document 100 is assigned to Topic 1 with probability 1.0\n",
      "Document 101 is assigned to Topic -1 with probability 0.0\n",
      "Document 102 is assigned to Topic 29 with probability 1.0\n",
      "Document 103 is assigned to Topic 26 with probability 0.2927371638484891\n",
      "Document 104 is assigned to Topic 35 with probability 0.8902718238553481\n",
      "Document 105 is assigned to Topic -1 with probability 0.0\n",
      "Document 106 is assigned to Topic -1 with probability 0.0\n",
      "Document 107 is assigned to Topic 0 with probability 1.0\n",
      "Document 108 is assigned to Topic 4 with probability 1.0\n",
      "Document 109 is assigned to Topic 39 with probability 1.0\n",
      "Document 110 is assigned to Topic 12 with probability 0.963030146650543\n",
      "Document 111 is assigned to Topic 9 with probability 0.9705327050075597\n",
      "Document 112 is assigned to Topic 3 with probability 0.9622016042383615\n",
      "Document 113 is assigned to Topic 26 with probability 1.0\n",
      "Document 114 is assigned to Topic 34 with probability 1.0\n",
      "Document 115 is assigned to Topic 2 with probability 1.0\n",
      "Document 116 is assigned to Topic 12 with probability 0.8286634694026156\n",
      "Document 117 is assigned to Topic 1 with probability 0.570491847717872\n",
      "Document 118 is assigned to Topic -1 with probability 0.0\n",
      "Document 119 is assigned to Topic -1 with probability 0.0\n",
      "Document 120 is assigned to Topic 9 with probability 1.0\n",
      "Document 121 is assigned to Topic 5 with probability 0.7253886183367371\n",
      "Document 122 is assigned to Topic 27 with probability 0.897935080583391\n",
      "Document 123 is assigned to Topic 0 with probability 1.0\n",
      "Document 124 is assigned to Topic 39 with probability 1.0\n",
      "Document 125 is assigned to Topic 7 with probability 1.0\n",
      "Document 126 is assigned to Topic 14 with probability 1.0\n",
      "Document 127 is assigned to Topic 13 with probability 1.0\n",
      "Document 128 is assigned to Topic 27 with probability 1.0\n",
      "Document 129 is assigned to Topic -1 with probability 0.0\n",
      "Document 130 is assigned to Topic -1 with probability 0.0\n",
      "Document 131 is assigned to Topic -1 with probability 0.0\n",
      "Document 132 is assigned to Topic 6 with probability 0.8054946523228539\n",
      "Document 133 is assigned to Topic 11 with probability 0.9244260692477803\n",
      "Document 134 is assigned to Topic 22 with probability 1.0\n",
      "Document 135 is assigned to Topic -1 with probability 0.0\n",
      "Document 136 is assigned to Topic 36 with probability 0.9259235708335938\n",
      "Document 137 is assigned to Topic 13 with probability 1.0\n",
      "Document 138 is assigned to Topic -1 with probability 0.0\n",
      "Document 139 is assigned to Topic -1 with probability 0.0\n",
      "Document 140 is assigned to Topic 9 with probability 0.8586484292318748\n",
      "Document 141 is assigned to Topic 29 with probability 1.0\n",
      "Document 142 is assigned to Topic -1 with probability 0.0\n",
      "Document 143 is assigned to Topic 20 with probability 0.4979492566531143\n",
      "Document 144 is assigned to Topic 29 with probability 1.0\n",
      "Document 145 is assigned to Topic -1 with probability 0.0\n",
      "Document 146 is assigned to Topic 22 with probability 1.0\n",
      "Document 147 is assigned to Topic 16 with probability 1.0\n",
      "Document 148 is assigned to Topic 24 with probability 0.8140474485238018\n",
      "Document 149 is assigned to Topic 16 with probability 1.0\n",
      "Document 150 is assigned to Topic 4 with probability 0.6534461908356429\n",
      "Document 151 is assigned to Topic 0 with probability 1.0\n",
      "Document 152 is assigned to Topic -1 with probability 0.0\n",
      "Document 153 is assigned to Topic 3 with probability 0.8574102739076868\n",
      "Document 154 is assigned to Topic -1 with probability 0.0\n",
      "Document 155 is assigned to Topic 37 with probability 1.0\n",
      "Document 156 is assigned to Topic 15 with probability 1.0\n",
      "Document 157 is assigned to Topic 7 with probability 1.0\n",
      "Document 158 is assigned to Topic 39 with probability 1.0\n",
      "Document 159 is assigned to Topic 9 with probability 0.9673294192461358\n",
      "Document 160 is assigned to Topic 19 with probability 1.0\n",
      "Document 161 is assigned to Topic 16 with probability 0.7837129582154381\n",
      "Document 162 is assigned to Topic 16 with probability 0.26834143124583665\n",
      "Document 163 is assigned to Topic 22 with probability 1.0\n",
      "Document 164 is assigned to Topic 7 with probability 0.8483751233128303\n",
      "Document 165 is assigned to Topic 16 with probability 1.0\n",
      "Document 166 is assigned to Topic 7 with probability 0.9207867536883879\n",
      "Document 167 is assigned to Topic -1 with probability 0.0\n",
      "Document 168 is assigned to Topic 16 with probability 1.0\n",
      "Document 169 is assigned to Topic 26 with probability 1.0\n",
      "Document 170 is assigned to Topic -1 with probability 0.0\n",
      "Document 171 is assigned to Topic -1 with probability 0.0\n",
      "Document 172 is assigned to Topic 3 with probability 0.8619044659250873\n",
      "Document 173 is assigned to Topic -1 with probability 0.0\n",
      "Document 174 is assigned to Topic -1 with probability 0.0\n",
      "Document 175 is assigned to Topic 30 with probability 1.0\n",
      "Document 176 is assigned to Topic -1 with probability 0.0\n",
      "Document 177 is assigned to Topic 23 with probability 0.76143640689066\n",
      "Document 178 is assigned to Topic -1 with probability 0.0\n",
      "Document 179 is assigned to Topic 11 with probability 0.813764815165532\n",
      "Document 180 is assigned to Topic 24 with probability 1.0\n",
      "Document 181 is assigned to Topic 17 with probability 0.8360401528462387\n",
      "Document 182 is assigned to Topic -1 with probability 0.0\n",
      "Document 183 is assigned to Topic 13 with probability 1.0\n",
      "Document 184 is assigned to Topic 0 with probability 1.0\n",
      "Document 185 is assigned to Topic 3 with probability 0.941879793070614\n",
      "Document 186 is assigned to Topic 3 with probability 1.0\n",
      "Document 187 is assigned to Topic 6 with probability 1.0\n",
      "Document 188 is assigned to Topic 0 with probability 1.0\n",
      "Document 189 is assigned to Topic 0 with probability 1.0\n",
      "Document 190 is assigned to Topic 16 with probability 0.9702175333403787\n",
      "Document 191 is assigned to Topic -1 with probability 0.0\n",
      "Document 192 is assigned to Topic 12 with probability 1.0\n",
      "Document 193 is assigned to Topic 32 with probability 0.9175235585682402\n",
      "Document 194 is assigned to Topic 13 with probability 1.0\n",
      "Document 195 is assigned to Topic 8 with probability 1.0\n",
      "Document 196 is assigned to Topic 20 with probability 0.4726169718998973\n",
      "Document 197 is assigned to Topic 8 with probability 1.0\n",
      "Document 198 is assigned to Topic 12 with probability 0.4464235637580315\n",
      "Document 199 is assigned to Topic 0 with probability 1.0\n",
      "Document 200 is assigned to Topic 7 with probability 0.7743407365799813\n",
      "Document 201 is assigned to Topic -1 with probability 0.0\n",
      "Document 202 is assigned to Topic 7 with probability 0.8483751233128303\n",
      "Document 203 is assigned to Topic -1 with probability 0.0\n",
      "Document 204 is assigned to Topic 21 with probability 1.0\n",
      "Document 205 is assigned to Topic 30 with probability 0.6888838864970006\n",
      "Document 206 is assigned to Topic 0 with probability 1.0\n",
      "Document 207 is assigned to Topic -1 with probability 0.0\n",
      "Document 208 is assigned to Topic 11 with probability 1.0\n",
      "Document 209 is assigned to Topic 21 with probability 1.0\n",
      "Document 210 is assigned to Topic 0 with probability 1.0\n",
      "Document 211 is assigned to Topic 2 with probability 0.9405509491565707\n",
      "Document 212 is assigned to Topic 8 with probability 1.0\n",
      "Document 213 is assigned to Topic 8 with probability 1.0\n",
      "Document 214 is assigned to Topic -1 with probability 0.0\n",
      "Document 215 is assigned to Topic 34 with probability 1.0\n",
      "Document 216 is assigned to Topic 4 with probability 0.8208369947138093\n",
      "Document 217 is assigned to Topic 6 with probability 0.8034445878442983\n",
      "Document 218 is assigned to Topic 2 with probability 0.9405509491565707\n",
      "Document 219 is assigned to Topic 32 with probability 1.0\n",
      "Document 220 is assigned to Topic 12 with probability 0.9398807080729967\n",
      "Document 221 is assigned to Topic 3 with probability 1.0\n",
      "Document 222 is assigned to Topic 19 with probability 0.7334024508784661\n",
      "Document 223 is assigned to Topic -1 with probability 0.0\n",
      "Document 224 is assigned to Topic 19 with probability 1.0\n",
      "Document 225 is assigned to Topic 4 with probability 0.5376844908945663\n",
      "Document 226 is assigned to Topic -1 with probability 0.0\n",
      "Document 227 is assigned to Topic 19 with probability 1.0\n",
      "Document 228 is assigned to Topic 39 with probability 1.0\n",
      "Document 229 is assigned to Topic 37 with probability 1.0\n",
      "Document 230 is assigned to Topic 28 with probability 1.0\n",
      "Document 231 is assigned to Topic 32 with probability 1.0\n",
      "Document 232 is assigned to Topic -1 with probability 0.0\n",
      "Document 233 is assigned to Topic 29 with probability 1.0\n",
      "Document 234 is assigned to Topic 26 with probability 1.0\n",
      "Document 235 is assigned to Topic 2 with probability 0.9410302435082558\n",
      "Document 236 is assigned to Topic 0 with probability 1.0\n",
      "Document 237 is assigned to Topic 2 with probability 0.9026525325228758\n",
      "Document 238 is assigned to Topic 0 with probability 1.0\n",
      "Document 239 is assigned to Topic 38 with probability 1.0\n",
      "Document 240 is assigned to Topic 19 with probability 0.41012307862833697\n",
      "Document 241 is assigned to Topic 5 with probability 0.9691282664858921\n",
      "Document 242 is assigned to Topic 5 with probability 1.0\n",
      "Document 243 is assigned to Topic -1 with probability 0.0\n",
      "Document 244 is assigned to Topic -1 with probability 0.0\n",
      "Document 245 is assigned to Topic 6 with probability 1.0\n",
      "Document 246 is assigned to Topic -1 with probability 0.0\n",
      "Document 247 is assigned to Topic -1 with probability 0.0\n",
      "Document 248 is assigned to Topic 5 with probability 0.7931309258952662\n",
      "Document 249 is assigned to Topic 30 with probability 1.0\n",
      "Document 250 is assigned to Topic -1 with probability 0.0\n",
      "Document 251 is assigned to Topic 11 with probability 1.0\n",
      "Document 252 is assigned to Topic 36 with probability 1.0\n",
      "Document 253 is assigned to Topic -1 with probability 0.0\n",
      "Document 254 is assigned to Topic 17 with probability 1.0\n",
      "Document 255 is assigned to Topic 3 with probability 0.8678885382500169\n",
      "Document 256 is assigned to Topic 1 with probability 0.5132454043707116\n",
      "Document 257 is assigned to Topic -1 with probability 0.0\n",
      "Document 258 is assigned to Topic 0 with probability 0.8227766054705571\n",
      "Document 259 is assigned to Topic 5 with probability 0.8985485146616152\n",
      "Document 260 is assigned to Topic -1 with probability 0.0\n",
      "Document 261 is assigned to Topic 0 with probability 1.0\n",
      "Document 262 is assigned to Topic 17 with probability 0.9620036302465459\n",
      "Document 263 is assigned to Topic 0 with probability 0.8932392632279214\n",
      "Document 264 is assigned to Topic 12 with probability 0.9867777956120081\n",
      "Document 265 is assigned to Topic 18 with probability 1.0\n",
      "Document 266 is assigned to Topic -1 with probability 0.0\n",
      "Document 267 is assigned to Topic -1 with probability 0.0\n",
      "Document 268 is assigned to Topic -1 with probability 0.0\n",
      "Document 269 is assigned to Topic -1 with probability 0.0\n",
      "Document 270 is assigned to Topic -1 with probability 0.0\n",
      "Document 271 is assigned to Topic 31 with probability 0.9913012984687579\n",
      "Document 272 is assigned to Topic -1 with probability 0.0\n",
      "Document 273 is assigned to Topic 34 with probability 1.0\n",
      "Document 274 is assigned to Topic 13 with probability 1.0\n",
      "Document 275 is assigned to Topic 1 with probability 1.0\n",
      "Document 276 is assigned to Topic 10 with probability 1.0\n",
      "Document 277 is assigned to Topic -1 with probability 0.0\n",
      "Document 278 is assigned to Topic 23 with probability 0.5435199972456377\n",
      "Document 279 is assigned to Topic 25 with probability 0.6919839077317158\n",
      "Document 280 is assigned to Topic -1 with probability 0.0\n",
      "Document 281 is assigned to Topic 22 with probability 0.6603384943248805\n",
      "Document 282 is assigned to Topic 21 with probability 0.29259308439324305\n",
      "Document 283 is assigned to Topic 27 with probability 1.0\n",
      "Document 284 is assigned to Topic 2 with probability 0.8958527843832742\n",
      "Document 285 is assigned to Topic 0 with probability 1.0\n",
      "Document 286 is assigned to Topic 9 with probability 0.8922430556333903\n",
      "Document 287 is assigned to Topic -1 with probability 0.0\n",
      "Document 288 is assigned to Topic 34 with probability 1.0\n",
      "Document 289 is assigned to Topic 20 with probability 1.0\n",
      "Document 290 is assigned to Topic 1 with probability 0.7176342037888614\n",
      "Document 291 is assigned to Topic 19 with probability 1.0\n",
      "Document 292 is assigned to Topic 23 with probability 1.0\n",
      "Document 293 is assigned to Topic -1 with probability 0.0\n",
      "Document 294 is assigned to Topic 3 with probability 0.7005902299352129\n",
      "Document 295 is assigned to Topic 2 with probability 0.8783917029568653\n",
      "Document 296 is assigned to Topic 7 with probability 1.0\n",
      "Document 297 is assigned to Topic 6 with probability 0.8324742581004132\n",
      "Document 298 is assigned to Topic 1 with probability 0.5286679383364662\n",
      "Document 299 is assigned to Topic 14 with probability 0.9475321181411501\n",
      "Document 300 is assigned to Topic 22 with probability 0.6274230984085928\n",
      "Document 301 is assigned to Topic 14 with probability 1.0\n",
      "Document 302 is assigned to Topic 10 with probability 0.6281197741810717\n",
      "Document 303 is assigned to Topic 14 with probability 1.0\n",
      "Document 304 is assigned to Topic -1 with probability 0.0\n",
      "Document 305 is assigned to Topic 14 with probability 1.0\n",
      "Document 306 is assigned to Topic 1 with probability 1.0\n",
      "Document 307 is assigned to Topic 11 with probability 1.0\n",
      "Document 308 is assigned to Topic 8 with probability 0.8717822607132379\n",
      "Document 309 is assigned to Topic 8 with probability 1.0\n",
      "Document 310 is assigned to Topic -1 with probability 0.0\n",
      "Document 311 is assigned to Topic 0 with probability 1.0\n",
      "Document 312 is assigned to Topic -1 with probability 0.0\n",
      "Document 313 is assigned to Topic 11 with probability 0.8808005746845419\n",
      "Document 314 is assigned to Topic -1 with probability 0.0\n",
      "Document 315 is assigned to Topic 5 with probability 1.0\n",
      "Document 316 is assigned to Topic 11 with probability 0.8952752570064445\n",
      "Document 317 is assigned to Topic 20 with probability 0.7098433486437825\n",
      "Document 318 is assigned to Topic 3 with probability 0.6351693244611681\n",
      "Document 319 is assigned to Topic 18 with probability 1.0\n",
      "Document 320 is assigned to Topic -1 with probability 0.0\n",
      "Document 321 is assigned to Topic -1 with probability 0.0\n",
      "Document 322 is assigned to Topic 0 with probability 1.0\n",
      "Document 323 is assigned to Topic 8 with probability 1.0\n",
      "Document 324 is assigned to Topic -1 with probability 0.0\n",
      "Document 325 is assigned to Topic -1 with probability 0.0\n",
      "Document 326 is assigned to Topic 23 with probability 1.0\n",
      "Document 327 is assigned to Topic 37 with probability 1.0\n",
      "Document 328 is assigned to Topic 13 with probability 0.7796797620058761\n",
      "Document 329 is assigned to Topic 24 with probability 0.8596302969673099\n",
      "Document 330 is assigned to Topic 8 with probability 0.9653054454054063\n",
      "Document 331 is assigned to Topic -1 with probability 0.0\n",
      "Document 332 is assigned to Topic 21 with probability 0.2387661013549688\n",
      "Document 333 is assigned to Topic 20 with probability 0.7375148725448911\n",
      "Document 334 is assigned to Topic -1 with probability 0.0\n",
      "Document 335 is assigned to Topic 10 with probability 0.7049065239146102\n",
      "Document 336 is assigned to Topic 3 with probability 1.0\n",
      "Document 337 is assigned to Topic 23 with probability 1.0\n",
      "Document 338 is assigned to Topic 27 with probability 1.0\n",
      "Document 339 is assigned to Topic 17 with probability 1.0\n",
      "Document 340 is assigned to Topic -1 with probability 0.0\n",
      "Document 341 is assigned to Topic -1 with probability 0.0\n",
      "Document 342 is assigned to Topic 17 with probability 0.8936555855311776\n",
      "Document 343 is assigned to Topic -1 with probability 0.0\n",
      "Document 344 is assigned to Topic 18 with probability 0.419883719984702\n",
      "Document 345 is assigned to Topic 6 with probability 0.9487772721957738\n",
      "Document 346 is assigned to Topic 11 with probability 0.6868545291612435\n",
      "Document 347 is assigned to Topic 0 with probability 0.8932392632279214\n",
      "Document 348 is assigned to Topic 7 with probability 0.9207867536883879\n",
      "Document 349 is assigned to Topic 33 with probability 0.9447799580122854\n",
      "Document 350 is assigned to Topic 34 with probability 1.0\n",
      "Document 351 is assigned to Topic 5 with probability 0.7555660429723778\n",
      "Document 352 is assigned to Topic 0 with probability 0.9274404287221715\n",
      "Document 353 is assigned to Topic 35 with probability 1.0\n",
      "Document 354 is assigned to Topic 28 with probability 1.0\n",
      "Document 355 is assigned to Topic 10 with probability 0.7999469149456961\n",
      "Document 356 is assigned to Topic 20 with probability 1.0\n",
      "Document 357 is assigned to Topic 28 with probability 1.0\n",
      "Document 358 is assigned to Topic 3 with probability 0.9622016042383615\n",
      "Document 359 is assigned to Topic -1 with probability 0.0\n",
      "Document 360 is assigned to Topic 13 with probability 1.0\n",
      "Document 361 is assigned to Topic 3 with probability 0.7541479150215878\n",
      "Document 362 is assigned to Topic 19 with probability 1.0\n",
      "Document 363 is assigned to Topic -1 with probability 0.0\n",
      "Document 364 is assigned to Topic 12 with probability 1.0\n",
      "Document 365 is assigned to Topic 36 with probability 1.0\n",
      "Document 366 is assigned to Topic -1 with probability 0.0\n",
      "Document 367 is assigned to Topic 38 with probability 1.0\n",
      "Document 368 is assigned to Topic 33 with probability 1.0\n",
      "Document 369 is assigned to Topic 0 with probability 1.0\n",
      "Document 370 is assigned to Topic 7 with probability 0.7833539759083648\n",
      "Document 371 is assigned to Topic -1 with probability 0.0\n",
      "Document 372 is assigned to Topic -1 with probability 0.0\n",
      "Document 373 is assigned to Topic 27 with probability 1.0\n",
      "Document 374 is assigned to Topic -1 with probability 0.0\n",
      "Document 375 is assigned to Topic 2 with probability 1.0\n",
      "Document 376 is assigned to Topic -1 with probability 0.0\n",
      "Document 377 is assigned to Topic 8 with probability 1.0\n",
      "Document 378 is assigned to Topic -1 with probability 0.0\n",
      "Document 379 is assigned to Topic -1 with probability 0.0\n",
      "Document 380 is assigned to Topic 6 with probability 0.9240956919677715\n",
      "Document 381 is assigned to Topic 30 with probability 1.0\n",
      "Document 382 is assigned to Topic -1 with probability 0.0\n",
      "Document 383 is assigned to Topic 0 with probability 1.0\n",
      "Document 384 is assigned to Topic -1 with probability 0.0\n",
      "Document 385 is assigned to Topic -1 with probability 0.0\n",
      "Document 386 is assigned to Topic 4 with probability 1.0\n",
      "Document 387 is assigned to Topic 9 with probability 0.9158455811663455\n",
      "Document 388 is assigned to Topic -1 with probability 0.0\n",
      "Document 389 is assigned to Topic 2 with probability 0.8145580665021457\n",
      "Document 390 is assigned to Topic 15 with probability 1.0\n",
      "Document 391 is assigned to Topic 0 with probability 1.0\n",
      "Document 392 is assigned to Topic 8 with probability 0.8703451713784001\n",
      "Document 393 is assigned to Topic 35 with probability 1.0\n",
      "Document 394 is assigned to Topic 18 with probability 1.0\n",
      "Document 395 is assigned to Topic 16 with probability 0.3152299873823356\n",
      "Document 396 is assigned to Topic 9 with probability 1.0\n",
      "Document 397 is assigned to Topic 4 with probability 0.8200775695684539\n",
      "Document 398 is assigned to Topic 12 with probability 1.0\n",
      "Document 399 is assigned to Topic 1 with probability 0.44439782078441753\n",
      "Document 400 is assigned to Topic 37 with probability 1.0\n",
      "Document 401 is assigned to Topic 14 with probability 0.7982475407503857\n",
      "Document 402 is assigned to Topic 21 with probability 0.9535508350945199\n",
      "Document 403 is assigned to Topic -1 with probability 0.0\n",
      "Document 404 is assigned to Topic 6 with probability 0.8377316270963142\n",
      "Document 405 is assigned to Topic 2 with probability 0.9445667064817866\n",
      "Document 406 is assigned to Topic 10 with probability 0.9732013479597594\n",
      "Document 407 is assigned to Topic -1 with probability 0.0\n",
      "Document 408 is assigned to Topic 25 with probability 1.0\n",
      "Document 409 is assigned to Topic 15 with probability 0.5831694140804902\n",
      "Document 410 is assigned to Topic 38 with probability 1.0\n",
      "Document 411 is assigned to Topic 24 with probability 1.0\n",
      "Document 412 is assigned to Topic 13 with probability 0.6255660739917596\n",
      "Document 413 is assigned to Topic 7 with probability 1.0\n",
      "Document 414 is assigned to Topic 2 with probability 0.9121632180160653\n",
      "Document 415 is assigned to Topic 11 with probability 1.0\n",
      "Document 416 is assigned to Topic 35 with probability 1.0\n",
      "Document 417 is assigned to Topic 5 with probability 1.0\n",
      "Document 418 is assigned to Topic 31 with probability 0.9588548876978451\n",
      "Document 419 is assigned to Topic 33 with probability 1.0\n",
      "Document 420 is assigned to Topic 33 with probability 1.0\n",
      "Document 421 is assigned to Topic -1 with probability 0.0\n",
      "Document 422 is assigned to Topic 26 with probability 0.286014720380171\n",
      "Document 423 is assigned to Topic 31 with probability 1.0\n",
      "Document 424 is assigned to Topic 4 with probability 0.8978263038193373\n",
      "Document 425 is assigned to Topic 4 with probability 0.8200775695684539\n",
      "Document 426 is assigned to Topic 29 with probability 1.0\n",
      "Document 427 is assigned to Topic -1 with probability 0.0\n",
      "Document 428 is assigned to Topic 29 with probability 0.8562877787782154\n",
      "Document 429 is assigned to Topic 21 with probability 1.0\n",
      "Document 430 is assigned to Topic 6 with probability 1.0\n",
      "Document 431 is assigned to Topic 13 with probability 1.0\n",
      "Document 432 is assigned to Topic 30 with probability 0.6943236817838835\n",
      "Document 433 is assigned to Topic 7 with probability 0.9207867536883879\n",
      "Document 434 is assigned to Topic 9 with probability 1.0\n",
      "Document 435 is assigned to Topic -1 with probability 0.0\n",
      "Document 436 is assigned to Topic -1 with probability 0.0\n",
      "Document 437 is assigned to Topic -1 with probability 0.0\n",
      "Document 438 is assigned to Topic 28 with probability 0.9767863984797812\n",
      "Document 439 is assigned to Topic 23 with probability 0.6438524914499811\n",
      "Document 440 is assigned to Topic -1 with probability 0.0\n",
      "Document 441 is assigned to Topic -1 with probability 0.0\n",
      "Document 442 is assigned to Topic -1 with probability 0.0\n",
      "Document 443 is assigned to Topic 23 with probability 1.0\n",
      "Document 444 is assigned to Topic 32 with probability 1.0\n",
      "Document 445 is assigned to Topic 1 with probability 0.9037240663797447\n",
      "Document 446 is assigned to Topic 0 with probability 0.8402928035812157\n",
      "Document 447 is assigned to Topic 6 with probability 1.0\n",
      "Document 448 is assigned to Topic 10 with probability 1.0\n",
      "Document 449 is assigned to Topic -1 with probability 0.0\n",
      "Document 450 is assigned to Topic 10 with probability 0.6993964950396109\n",
      "Document 451 is assigned to Topic -1 with probability 0.0\n",
      "Document 452 is assigned to Topic -1 with probability 0.0\n",
      "Document 453 is assigned to Topic 0 with probability 1.0\n",
      "Document 454 is assigned to Topic -1 with probability 0.0\n",
      "Document 455 is assigned to Topic -1 with probability 0.0\n",
      "Document 456 is assigned to Topic 0 with probability 1.0\n",
      "Document 457 is assigned to Topic 4 with probability 0.7755647807745748\n",
      "Document 458 is assigned to Topic 8 with probability 0.836935183962019\n",
      "Document 459 is assigned to Topic 24 with probability 0.8436674483521277\n",
      "Document 460 is assigned to Topic 27 with probability 1.0\n",
      "Document 461 is assigned to Topic 5 with probability 0.6940287070239922\n",
      "Document 462 is assigned to Topic 0 with probability 1.0\n",
      "Document 463 is assigned to Topic -1 with probability 0.0\n",
      "Document 464 is assigned to Topic 1 with probability 0.8923590287941651\n",
      "Document 465 is assigned to Topic -1 with probability 0.0\n",
      "Document 466 is assigned to Topic 18 with probability 0.6486588342900994\n",
      "Document 467 is assigned to Topic 14 with probability 1.0\n",
      "Document 468 is assigned to Topic 1 with probability 0.570491847717872\n",
      "Document 469 is assigned to Topic 25 with probability 1.0\n",
      "Document 470 is assigned to Topic 5 with probability 0.7979145627541462\n",
      "Document 471 is assigned to Topic 5 with probability 0.7931309258952662\n",
      "Document 472 is assigned to Topic -1 with probability 0.0\n",
      "Document 473 is assigned to Topic 18 with probability 0.951733996635684\n",
      "Document 474 is assigned to Topic 28 with probability 0.8264050547708099\n",
      "Document 475 is assigned to Topic 6 with probability 0.8324742581004132\n",
      "Document 476 is assigned to Topic 0 with probability 1.0\n",
      "Document 477 is assigned to Topic 7 with probability 0.7743407365799813\n",
      "Document 478 is assigned to Topic -1 with probability 0.0\n",
      "Document 479 is assigned to Topic -1 with probability 0.0\n",
      "Document 480 is assigned to Topic 1 with probability 0.8379637575041963\n",
      "Document 481 is assigned to Topic 1 with probability 0.868665670730639\n",
      "Document 482 is assigned to Topic 10 with probability 0.5506416235560696\n",
      "Document 483 is assigned to Topic 30 with probability 1.0\n",
      "Document 484 is assigned to Topic -1 with probability 0.0\n",
      "Document 485 is assigned to Topic -1 with probability 0.0\n",
      "Document 486 is assigned to Topic 10 with probability 1.0\n",
      "Document 487 is assigned to Topic 10 with probability 1.0\n",
      "Document 488 is assigned to Topic -1 with probability 0.0\n",
      "Document 489 is assigned to Topic -1 with probability 0.0\n",
      "Document 490 is assigned to Topic 4 with probability 1.0\n",
      "Document 491 is assigned to Topic 4 with probability 0.9412676599372344\n",
      "Document 492 is assigned to Topic 21 with probability 1.0\n",
      "Document 493 is assigned to Topic 32 with probability 1.0\n",
      "Document 494 is assigned to Topic 10 with probability 0.7583201350316819\n",
      "Document 495 is assigned to Topic 15 with probability 0.5648027749162543\n",
      "Document 496 is assigned to Topic 13 with probability 1.0\n",
      "Document 497 is assigned to Topic 4 with probability 1.0\n",
      "Document 498 is assigned to Topic 21 with probability 0.8419085913451716\n",
      "Document 499 is assigned to Topic 9 with probability 1.0\n",
      "Document 500 is assigned to Topic 35 with probability 1.0\n",
      "Document 501 is assigned to Topic 5 with probability 1.0\n",
      "Document 502 is assigned to Topic 0 with probability 0.8957005347782957\n",
      "Document 503 is assigned to Topic 1 with probability 0.5343831458329835\n",
      "Document 504 is assigned to Topic 1 with probability 0.570491847717872\n",
      "Document 505 is assigned to Topic -1 with probability 0.0\n"
     ]
    }
   ],
   "source": [
    "for i, (topic, prob) in enumerate(zip(topics, probabilities)):\n",
    "    print(f\"Document {i} is assigned to Topic {topic} with probability {prob}\")"
   ]
  },
  {
   "cell_type": "code",
   "execution_count": 14,
   "metadata": {},
   "outputs": [
    {
     "name": "stdout",
     "output_type": "stream",
     "text": [
      "[(1, 1), (8, 7), (5, 9), (2, 10), (2, 12), (4, 14), (6, 15), (1, 24), (4, 34), (3, 35), (1, 38), (1, 43), (1, 47), (5, 48), (1, 49), (9, 50), (2, 55), (2, 56), (1, 65), (9, 73), (2, 86), (3, 88), (6, 91), (1, 100), (4, 108), (9, 111), (3, 112), (2, 115), (1, 117), (9, 120), (5, 121), (7, 125), (6, 132), (9, 140), (4, 150), (3, 153), (7, 157), (9, 159), (7, 164), (7, 166), (3, 172), (3, 185), (3, 186), (6, 187), (8, 195), (8, 197), (7, 200), (7, 202), (2, 211), (8, 212), (8, 213), (4, 216), (6, 217), (2, 218), (3, 221), (4, 225), (2, 235), (2, 237), (5, 241), (5, 242), (6, 245), (5, 248), (3, 255), (1, 256), (5, 259), (1, 275), (10, 276), (2, 284), (9, 286), (1, 290), (3, 294), (2, 295), (7, 296), (6, 297), (1, 298), (10, 302), (1, 306), (8, 308), (8, 309), (5, 315), (3, 318), (8, 323), (8, 330), (10, 335), (3, 336), (6, 345), (7, 348), (5, 351), (10, 355), (3, 358), (3, 361), (7, 370), (2, 375), (8, 377), (6, 380), (4, 386), (9, 387), (2, 389), (8, 392), (9, 396), (4, 397), (1, 399), (6, 404), (2, 405), (10, 406), (7, 413), (2, 414), (5, 417), (4, 424), (4, 425), (6, 430), (7, 433), (9, 434), (1, 445), (6, 447), (10, 448), (10, 450), (4, 457), (8, 458), (5, 461), (1, 464), (1, 468), (5, 470), (5, 471), (6, 475), (7, 477), (1, 480), (1, 481), (10, 482), (10, 486), (10, 487), (4, 490), (4, 491), (10, 494), (4, 497), (9, 499), (5, 501), (1, 503), (1, 504)]\n"
     ]
    }
   ],
   "source": [
    "docs = [(topic, i) for i, topic in enumerate(topics) if topic>0 and topic<11]\n",
    "print(docs)"
   ]
  },
  {
   "cell_type": "code",
   "execution_count": 15,
   "metadata": {},
   "outputs": [
    {
     "name": "stdout",
     "output_type": "stream",
     "text": [
      "[1, 24, 38, 43, 47, 49, 65, 100, 117, 256, 275, 290, 298, 306, 399, 445, 464, 468, 480, 481, 503, 504]\n"
     ]
    }
   ],
   "source": [
    "from collections import defaultdict\n",
    "\n",
    "docs = defaultdict(list)\n",
    "\n",
    "for i, topic in enumerate(topics):\n",
    "    if topic>0 and topic<11:\n",
    "        docs[topic].append(i)\n",
    "\n",
    "print(docs[1])"
   ]
  },
  {
   "cell_type": "code",
   "execution_count": 16,
   "metadata": {},
   "outputs": [],
   "source": [
    "ts_sentiment = pd.read_csv('Output/TS_withSentiment.csv')"
   ]
  },
  {
   "cell_type": "code",
   "execution_count": 17,
   "metadata": {},
   "outputs": [],
   "source": [
    "sent_vals = []\n",
    "\n",
    "for sent in ts_sentiment['sentiment']:\n",
    "    if sent == 'Positive':\n",
    "        sent_vals.append(1)\n",
    "    elif sent == 'Negative':\n",
    "        sent_vals.append(-1)\n",
    "    else:\n",
    "        sent_vals.append(0)"
   ]
  },
  {
   "cell_type": "code",
   "execution_count": 18,
   "metadata": {},
   "outputs": [],
   "source": [
    "ts_sentiment['sentiment_values'] = sent_vals"
   ]
  },
  {
   "cell_type": "code",
   "execution_count": 19,
   "metadata": {},
   "outputs": [],
   "source": [
    "total_sent_val = []\n",
    "\n",
    "for topic in docs:\n",
    "    sum = 0\n",
    "    for index in docs[topic]:\n",
    "        sum += ts_sentiment['sentiment_values'][index]\n",
    "    total_sent_val.append(sum)"
   ]
  },
  {
   "cell_type": "code",
   "execution_count": 20,
   "metadata": {},
   "outputs": [],
   "source": [
    "topics_ts = pd.DataFrame()\n",
    "\n",
    "topics_ts['topic_id'] = [topic for topic in docs]\n",
    "topics_ts['sentiment_value'] = total_sent_val"
   ]
  },
  {
   "cell_type": "code",
   "execution_count": 21,
   "metadata": {},
   "outputs": [
    {
     "name": "stdout",
     "output_type": "stream",
     "text": [
      "['feeder, ugalan, banyumanik, hendrarprihadi, kuota', 'acnya, sore, tawang, kak, jam', 'halte, balaikota, info, imam, tanah', 'kota, semarang, gading, memfasilitasi, teman', 'bus, iv, cangkiran, trans, layanan', 'khusus, ngerasain, ts, berlaku, karna', 'alun, max, dimana, jurusan, terdekat', 'tanah, putih, halte, gimana, polines', 'armada, godong, banget, ditambah, armadanya', 'cash, tap, tarif, tunai, cashless']\n"
     ]
    }
   ],
   "source": [
    "topic_names = [', '.join([word for word, prob in topic_model.get_topic(i)[:5]]) for i in range (1,11)]\n",
    "topics_ts['topic_name'] = topic_names\n",
    "print(topic_names)"
   ]
  },
  {
   "cell_type": "code",
   "execution_count": 25,
   "metadata": {},
   "outputs": [
    {
     "data": {
      "text/html": [
       "<div>\n",
       "<style scoped>\n",
       "    .dataframe tbody tr th:only-of-type {\n",
       "        vertical-align: middle;\n",
       "    }\n",
       "\n",
       "    .dataframe tbody tr th {\n",
       "        vertical-align: top;\n",
       "    }\n",
       "\n",
       "    .dataframe thead th {\n",
       "        text-align: right;\n",
       "    }\n",
       "</style>\n",
       "<table border=\"1\" class=\"dataframe\">\n",
       "  <thead>\n",
       "    <tr style=\"text-align: right;\">\n",
       "      <th></th>\n",
       "      <th>topic_id</th>\n",
       "      <th>sentiment_value</th>\n",
       "      <th>topic_name</th>\n",
       "      <th>sentiment</th>\n",
       "    </tr>\n",
       "  </thead>\n",
       "  <tbody>\n",
       "    <tr>\n",
       "      <th>0</th>\n",
       "      <td>1</td>\n",
       "      <td>-1</td>\n",
       "      <td>feeder, ugalan, banyumanik, hendrarprihadi, kuota</td>\n",
       "      <td>Negative</td>\n",
       "    </tr>\n",
       "    <tr>\n",
       "      <th>1</th>\n",
       "      <td>8</td>\n",
       "      <td>-2</td>\n",
       "      <td>acnya, sore, tawang, kak, jam</td>\n",
       "      <td>Negative</td>\n",
       "    </tr>\n",
       "    <tr>\n",
       "      <th>2</th>\n",
       "      <td>5</td>\n",
       "      <td>-3</td>\n",
       "      <td>halte, balaikota, info, imam, tanah</td>\n",
       "      <td>Negative</td>\n",
       "    </tr>\n",
       "    <tr>\n",
       "      <th>3</th>\n",
       "      <td>2</td>\n",
       "      <td>0</td>\n",
       "      <td>kota, semarang, gading, memfasilitasi, teman</td>\n",
       "      <td>Neutral</td>\n",
       "    </tr>\n",
       "    <tr>\n",
       "      <th>4</th>\n",
       "      <td>4</td>\n",
       "      <td>7</td>\n",
       "      <td>bus, iv, cangkiran, trans, layanan</td>\n",
       "      <td>Positive</td>\n",
       "    </tr>\n",
       "    <tr>\n",
       "      <th>5</th>\n",
       "      <td>6</td>\n",
       "      <td>1</td>\n",
       "      <td>khusus, ngerasain, ts, berlaku, karna</td>\n",
       "      <td>Positive</td>\n",
       "    </tr>\n",
       "    <tr>\n",
       "      <th>6</th>\n",
       "      <td>3</td>\n",
       "      <td>-1</td>\n",
       "      <td>alun, max, dimana, jurusan, terdekat</td>\n",
       "      <td>Negative</td>\n",
       "    </tr>\n",
       "    <tr>\n",
       "      <th>7</th>\n",
       "      <td>9</td>\n",
       "      <td>-4</td>\n",
       "      <td>tanah, putih, halte, gimana, polines</td>\n",
       "      <td>Negative</td>\n",
       "    </tr>\n",
       "    <tr>\n",
       "      <th>8</th>\n",
       "      <td>7</td>\n",
       "      <td>-1</td>\n",
       "      <td>armada, godong, banget, ditambah, armadanya</td>\n",
       "      <td>Negative</td>\n",
       "    </tr>\n",
       "    <tr>\n",
       "      <th>9</th>\n",
       "      <td>10</td>\n",
       "      <td>-1</td>\n",
       "      <td>cash, tap, tarif, tunai, cashless</td>\n",
       "      <td>Negative</td>\n",
       "    </tr>\n",
       "  </tbody>\n",
       "</table>\n",
       "</div>"
      ],
      "text/plain": [
       "   topic_id  sentiment_value  \\\n",
       "0         1               -1   \n",
       "1         8               -2   \n",
       "2         5               -3   \n",
       "3         2                0   \n",
       "4         4                7   \n",
       "5         6                1   \n",
       "6         3               -1   \n",
       "7         9               -4   \n",
       "8         7               -1   \n",
       "9        10               -1   \n",
       "\n",
       "                                          topic_name sentiment  \n",
       "0  feeder, ugalan, banyumanik, hendrarprihadi, kuota  Negative  \n",
       "1                      acnya, sore, tawang, kak, jam  Negative  \n",
       "2                halte, balaikota, info, imam, tanah  Negative  \n",
       "3       kota, semarang, gading, memfasilitasi, teman   Neutral  \n",
       "4                 bus, iv, cangkiran, trans, layanan  Positive  \n",
       "5              khusus, ngerasain, ts, berlaku, karna  Positive  \n",
       "6               alun, max, dimana, jurusan, terdekat  Negative  \n",
       "7               tanah, putih, halte, gimana, polines  Negative  \n",
       "8        armada, godong, banget, ditambah, armadanya  Negative  \n",
       "9                  cash, tap, tarif, tunai, cashless  Negative  "
      ]
     },
     "execution_count": 25,
     "metadata": {},
     "output_type": "execute_result"
    }
   ],
   "source": [
    "topics_ts.head(10)"
   ]
  },
  {
   "cell_type": "code",
   "execution_count": 23,
   "metadata": {},
   "outputs": [],
   "source": [
    "sent_names = []\n",
    "for sent in topics_ts['sentiment_value']:\n",
    "    if sent<0:\n",
    "        sent_names.append('Negative')\n",
    "    elif sent==0:\n",
    "        sent_names.append('Neutral')\n",
    "    else:\n",
    "        sent_names.append('Positive')"
   ]
  },
  {
   "cell_type": "code",
   "execution_count": 24,
   "metadata": {},
   "outputs": [],
   "source": [
    "topics_ts['sentiment'] = sent_names"
   ]
  },
  {
   "cell_type": "code",
   "execution_count": 67,
   "metadata": {},
   "outputs": [],
   "source": [
    "topics_ts.to_csv('Output/TS_topics.csv')"
   ]
  },
  {
   "cell_type": "code",
   "execution_count": 13,
   "metadata": {},
   "outputs": [
    {
     "name": "stdout",
     "output_type": "stream",
     "text": [
      "0.7031292720784231\n"
     ]
    }
   ],
   "source": [
    "documents = pd.DataFrame({\"Document\": dataset['full_text'],\n",
    "                          \"ID\": range(len(dataset['full_text'])),\n",
    "                          \"Topic\": topics})\n",
    "documents_per_topic = documents.groupby(['Topic'], as_index=False).agg({'Document': ' '.join})\n",
    "cleaned_docs = topic_model._preprocess_text(documents_per_topic.Document.values)\n",
    "\n",
    "# Extract vectorizer and analyzer from BERTopic\n",
    "vectorizer = topic_model.vectorizer_model\n",
    "analyzer = vectorizer.build_analyzer()\n",
    "\n",
    "# Extract features for Topic Coherence evaluation\n",
    "# words = vectorizer.get_feature_names()\n",
    "tokens = [analyzer(doc) for doc in cleaned_docs]\n",
    "dictionary = corpora.Dictionary(tokens)\n",
    "corpus = [dictionary.doc2bow(token) for token in tokens]\n",
    "topic_words = [[words for words, _ in topic_model.get_topic(topic)] \n",
    "               for topic in range(len(set(topics))-1)]\n",
    "\n",
    "# Evaluate\n",
    "coherence_model = CoherenceModel(topics=topic_words, \n",
    "                                 texts=tokens, \n",
    "                                 corpus=corpus,\n",
    "                                 dictionary=dictionary, \n",
    "                                 coherence='c_v')\n",
    "coherence = coherence_model.get_coherence()\n",
    "print(coherence)"
   ]
  },
  {
   "cell_type": "code",
   "execution_count": 15,
   "metadata": {},
   "outputs": [
    {
     "name": "stdout",
     "output_type": "stream",
     "text": [
      "Evaluating: embedding_model=all-MiniLM-L6-v2, n_neighbors=10, min_cluster_size=5, n_components=2\n",
      "Coherence Score: 0.5584738112190346\n",
      "Evaluating: embedding_model=all-MiniLM-L6-v2, n_neighbors=10, min_cluster_size=5, n_components=5\n",
      "Coherence Score: 0.5584738112190346\n",
      "Evaluating: embedding_model=all-MiniLM-L6-v2, n_neighbors=10, min_cluster_size=5, n_components=8\n",
      "Coherence Score: 0.5584738112190346\n",
      "Evaluating: embedding_model=all-MiniLM-L6-v2, n_neighbors=10, min_cluster_size=10, n_components=2\n",
      "Coherence Score: 0.5584738112190346\n",
      "Evaluating: embedding_model=all-MiniLM-L6-v2, n_neighbors=10, min_cluster_size=10, n_components=5\n",
      "Coherence Score: 0.5584738112190346\n",
      "Evaluating: embedding_model=all-MiniLM-L6-v2, n_neighbors=10, min_cluster_size=10, n_components=8\n",
      "Coherence Score: 0.5584738112190346\n",
      "Evaluating: embedding_model=all-MiniLM-L6-v2, n_neighbors=10, min_cluster_size=20, n_components=2\n",
      "Coherence Score: 0.3414742928287255\n",
      "Evaluating: embedding_model=all-MiniLM-L6-v2, n_neighbors=10, min_cluster_size=20, n_components=5\n",
      "Coherence Score: 0.35823344053452066\n",
      "Evaluating: embedding_model=all-MiniLM-L6-v2, n_neighbors=10, min_cluster_size=20, n_components=8\n",
      "Coherence Score: 0.32988047893678174\n",
      "Evaluating: embedding_model=all-MiniLM-L6-v2, n_neighbors=15, min_cluster_size=5, n_components=2\n",
      "Coherence Score: 0.5584738112190346\n",
      "Evaluating: embedding_model=all-MiniLM-L6-v2, n_neighbors=15, min_cluster_size=5, n_components=5\n",
      "Coherence Score: 0.5584738112190346\n",
      "Evaluating: embedding_model=all-MiniLM-L6-v2, n_neighbors=15, min_cluster_size=5, n_components=8\n",
      "Coherence Score: 0.5584738112190346\n",
      "Evaluating: embedding_model=all-MiniLM-L6-v2, n_neighbors=15, min_cluster_size=10, n_components=2\n",
      "Coherence Score: 0.5584738112190346\n",
      "Evaluating: embedding_model=all-MiniLM-L6-v2, n_neighbors=15, min_cluster_size=10, n_components=5\n",
      "Coherence Score: 0.5584738112190346\n",
      "Evaluating: embedding_model=all-MiniLM-L6-v2, n_neighbors=15, min_cluster_size=10, n_components=8\n",
      "Coherence Score: 0.5584738112190346\n",
      "Evaluating: embedding_model=all-MiniLM-L6-v2, n_neighbors=15, min_cluster_size=20, n_components=2\n",
      "Coherence Score: 0.3488250825238078\n",
      "Evaluating: embedding_model=all-MiniLM-L6-v2, n_neighbors=15, min_cluster_size=20, n_components=5\n",
      "Coherence Score: 0.3422944165961144\n",
      "Evaluating: embedding_model=all-MiniLM-L6-v2, n_neighbors=15, min_cluster_size=20, n_components=8\n",
      "Coherence Score: 0.3562763938740203\n",
      "Evaluating: embedding_model=all-MiniLM-L6-v2, n_neighbors=30, min_cluster_size=5, n_components=2\n",
      "Coherence Score: 0.5584738112190346\n",
      "Evaluating: embedding_model=all-MiniLM-L6-v2, n_neighbors=30, min_cluster_size=5, n_components=5\n",
      "Coherence Score: 0.5584738112190346\n",
      "Evaluating: embedding_model=all-MiniLM-L6-v2, n_neighbors=30, min_cluster_size=5, n_components=8\n",
      "Coherence Score: 0.5584738112190346\n",
      "Evaluating: embedding_model=all-MiniLM-L6-v2, n_neighbors=30, min_cluster_size=10, n_components=2\n",
      "Coherence Score: 0.5584738112190346\n",
      "Evaluating: embedding_model=all-MiniLM-L6-v2, n_neighbors=30, min_cluster_size=10, n_components=5\n",
      "Coherence Score: 0.5584738112190346\n",
      "Evaluating: embedding_model=all-MiniLM-L6-v2, n_neighbors=30, min_cluster_size=10, n_components=8\n",
      "Coherence Score: 0.5584738112190346\n",
      "Evaluating: embedding_model=all-MiniLM-L6-v2, n_neighbors=30, min_cluster_size=20, n_components=2\n",
      "Coherence Score: 0.3520589174617003\n",
      "Evaluating: embedding_model=all-MiniLM-L6-v2, n_neighbors=30, min_cluster_size=20, n_components=5\n",
      "Coherence Score: 0.34086758592037675\n",
      "Evaluating: embedding_model=all-MiniLM-L6-v2, n_neighbors=30, min_cluster_size=20, n_components=8\n",
      "Coherence Score: 0.3876069577904356\n",
      "Evaluating: embedding_model=paraphrase-MiniLM-L6-v2, n_neighbors=10, min_cluster_size=5, n_components=2\n",
      "Coherence Score: 0.43262945623379023\n",
      "Evaluating: embedding_model=paraphrase-MiniLM-L6-v2, n_neighbors=10, min_cluster_size=5, n_components=5\n",
      "Coherence Score: 0.418644029833803\n",
      "Evaluating: embedding_model=paraphrase-MiniLM-L6-v2, n_neighbors=10, min_cluster_size=5, n_components=8\n",
      "Coherence Score: 0.40531847453109054\n",
      "Evaluating: embedding_model=paraphrase-MiniLM-L6-v2, n_neighbors=10, min_cluster_size=10, n_components=2\n",
      "Coherence Score: 0.5375277542053796\n",
      "Evaluating: embedding_model=paraphrase-MiniLM-L6-v2, n_neighbors=10, min_cluster_size=10, n_components=5\n",
      "Coherence Score: 0.5006773517198043\n",
      "Evaluating: embedding_model=paraphrase-MiniLM-L6-v2, n_neighbors=10, min_cluster_size=10, n_components=8\n",
      "Coherence Score: 0.5006773517198043\n",
      "Evaluating: embedding_model=paraphrase-MiniLM-L6-v2, n_neighbors=10, min_cluster_size=20, n_components=2\n",
      "Coherence Score: 0.2909531385680804\n",
      "Evaluating: embedding_model=paraphrase-MiniLM-L6-v2, n_neighbors=10, min_cluster_size=20, n_components=5\n",
      "Coherence Score: 0.29164925411856746\n",
      "Evaluating: embedding_model=paraphrase-MiniLM-L6-v2, n_neighbors=10, min_cluster_size=20, n_components=8\n",
      "Coherence Score: 0.30706897006932155\n",
      "Evaluating: embedding_model=paraphrase-MiniLM-L6-v2, n_neighbors=15, min_cluster_size=5, n_components=2\n",
      "Coherence Score: 0.40139768285431005\n",
      "Evaluating: embedding_model=paraphrase-MiniLM-L6-v2, n_neighbors=15, min_cluster_size=5, n_components=5\n",
      "Coherence Score: 0.43007012300737807\n",
      "Evaluating: embedding_model=paraphrase-MiniLM-L6-v2, n_neighbors=15, min_cluster_size=5, n_components=8\n",
      "Coherence Score: 0.42330612999964934\n",
      "Evaluating: embedding_model=paraphrase-MiniLM-L6-v2, n_neighbors=15, min_cluster_size=10, n_components=2\n",
      "Coherence Score: 0.5006773517198043\n",
      "Evaluating: embedding_model=paraphrase-MiniLM-L6-v2, n_neighbors=15, min_cluster_size=10, n_components=5\n",
      "Coherence Score: 0.5584738112190346\n",
      "Evaluating: embedding_model=paraphrase-MiniLM-L6-v2, n_neighbors=15, min_cluster_size=10, n_components=8\n",
      "Coherence Score: 0.5584738112190346\n",
      "Evaluating: embedding_model=paraphrase-MiniLM-L6-v2, n_neighbors=15, min_cluster_size=20, n_components=2\n",
      "Coherence Score: 0.3450740876450213\n",
      "Evaluating: embedding_model=paraphrase-MiniLM-L6-v2, n_neighbors=15, min_cluster_size=20, n_components=5\n",
      "Coherence Score: 0.30764736031870193\n",
      "Evaluating: embedding_model=paraphrase-MiniLM-L6-v2, n_neighbors=15, min_cluster_size=20, n_components=8\n",
      "Coherence Score: 0.3072575345404967\n",
      "Evaluating: embedding_model=paraphrase-MiniLM-L6-v2, n_neighbors=30, min_cluster_size=5, n_components=2\n",
      "Coherence Score: 0.39276813015109513\n",
      "Evaluating: embedding_model=paraphrase-MiniLM-L6-v2, n_neighbors=30, min_cluster_size=5, n_components=5\n",
      "Coherence Score: 0.5584738112190346\n",
      "Evaluating: embedding_model=paraphrase-MiniLM-L6-v2, n_neighbors=30, min_cluster_size=5, n_components=8\n",
      "Coherence Score: 0.5584738112190346\n",
      "Evaluating: embedding_model=paraphrase-MiniLM-L6-v2, n_neighbors=30, min_cluster_size=10, n_components=2\n",
      "Coherence Score: 0.5584738112190346\n",
      "Evaluating: embedding_model=paraphrase-MiniLM-L6-v2, n_neighbors=30, min_cluster_size=10, n_components=5\n",
      "Coherence Score: 0.5584738112190346\n",
      "Evaluating: embedding_model=paraphrase-MiniLM-L6-v2, n_neighbors=30, min_cluster_size=10, n_components=8\n",
      "Coherence Score: 0.5584738112190346\n",
      "Evaluating: embedding_model=paraphrase-MiniLM-L6-v2, n_neighbors=30, min_cluster_size=20, n_components=2\n",
      "Coherence Score: 0.3362922673876312\n",
      "Evaluating: embedding_model=paraphrase-MiniLM-L6-v2, n_neighbors=30, min_cluster_size=20, n_components=5\n",
      "Coherence Score: 0.3538656757568506\n",
      "Evaluating: embedding_model=paraphrase-MiniLM-L6-v2, n_neighbors=30, min_cluster_size=20, n_components=8\n",
      "Coherence Score: 0.2574511446097614\n",
      "Best Coherence Score: 0.5584738112190346\n"
     ]
    }
   ],
   "source": [
    "\n",
    "def tune_bertopic(embedding_model_name, n_neighbors, min_cluster_size, n_components):\n",
    "    embedding_model = SentenceTransformer(embedding_model_name)\n",
    "    umap_model = UMAP(n_neighbors=n_neighbors, n_components=n_components, metric='cosine')\n",
    "    hdbscan_model = HDBSCAN(min_cluster_size=min_cluster_size, metric='euclidean', cluster_selection_method='eom')\n",
    "    topic_model = BERTopic(embedding_model=embedding_model, umap_model=umap_model, hdbscan_model=hdbscan_model)\n",
    "\n",
    "    topics, probs = topic_model.fit_transform(dataset['full_text'])\n",
    "    topic_words = topic_model.get_topics()\n",
    "    topics = [[word for word, _ in topic_words[topic_id]] for topic_id in topic_words]\n",
    "    \n",
    "    # Create the coherence model\n",
    "    coherence_model = CoherenceModel(\n",
    "        topics=topics, \n",
    "        texts=tokens, \n",
    "        dictionary=dictionary, \n",
    "        coherence='c_v'\n",
    "    )\n",
    "    \n",
    "    # Get the coherence score\n",
    "    coherence_score = coherence_model.get_coherence()\n",
    "    print(f\"Coherence Score: {coherence_score}\")\n",
    "    return topic_model, coherence_score\n",
    "\n",
    "# Define hyperparameters to tune\n",
    "embedding_models = ['all-MiniLM-L6-v2', 'paraphrase-MiniLM-L6-v2']\n",
    "n_neighbors_values = [10, 15, 30]\n",
    "min_cluster_size_values = [5, 10, 20]\n",
    "n_components_values = [2, 5, 8]\n",
    "\n",
    "# Perform hyperparameter tuning\n",
    "best_model = None\n",
    "best_score = -1\n",
    "for embedding_model in embedding_models:\n",
    "    for n_neighbors in n_neighbors_values:\n",
    "        for min_cluster_size in min_cluster_size_values:\n",
    "            for n_components in n_components_values:\n",
    "                print(f\"Evaluating: embedding_model={embedding_model}, n_neighbors={n_neighbors}, min_cluster_size={min_cluster_size}, n_components={n_components}\")\n",
    "                model, score = tune_bertopic(embedding_model, n_neighbors, min_cluster_size, n_components)\n",
    "                if score > best_score:\n",
    "                    best_score = score\n",
    "                    best_model = model\n",
    "\n",
    "# Display the best score and model\n",
    "print(f\"Best Coherence Score: {best_score}\")"
   ]
  },
  {
   "cell_type": "code",
   "execution_count": 4,
   "metadata": {},
   "outputs": [],
   "source": [
    "import pandas as pd"
   ]
  },
  {
   "cell_type": "code",
   "execution_count": 38,
   "metadata": {},
   "outputs": [],
   "source": [
    "# docs = [(1, 1), (8, 7), (5, 9), (2, 10), (2, 12), (4, 14), (6, 15), (1, 24), (4, 34), (3, 35), (1, 38), (1, 43), (1, 47), (5, 48), (1, 49), (9, 50), (2, 55), (2, 56), (1, 65), (9, 73), (2, 86), (3, 88), (6, 91), (1, 100), (4, 108), (9, 111), (3, 112), (2, 115), (1, 117), (9, 120), (5, 121), (7, 125), (6, 132), (9, 140), (4, 150), (3, 153), (7, 157), (9, 159), (7, 164), (7, 166), (3, 172), (3, 185), (3, 186), (6, 187), (8, 195), (8, 197), (7, 200), (7, 202), (2, 211), (8, 212), (8, 213), (4, 216), (6, 217), (2, 218), (3, 221), (4, 225), (2, 235), (2, 237), (5, 241), (5, 242), (6, 245), (5, 248), (3, 255), (1, 256), (5, 259), (1, 275), (10, 276), (2, 284), (9, 286), (1, 290), (3, 294), (2, 295), (7, 296), (6, 297), (1, 298), (10, 302), (1, 306), (8, 308), (8, 309), (5, 315), (3, 318), (8, 323), (8, 330), (10, 335), (3, 336), (6, 345), (7, 348), (5, 351), (10, 355), (3, 358), (3, 361), (7, 370), (2, 375), (8, 377), (6, 380), (4, 386), (9, 387), (2, 389), (8, 392), (9, 396), (4, 397), (1, 399), (6, 404), (2, 405), (10, 406), (7, 413), (2, 414), (5, 417), (4, 424), (4, 425), (6, 430), (7, 433), (9, 434), (1, 445), (6, 447), (10, 448), (10, 450), (4, 457), (8, 458), (5, 461), (1, 464), (1, 468), (5, 470), (5, 471), (6, 475), (7, 477), (1, 480), (1, 481), (10, 482), (10, 486), (10, 487), (4, 490), (4, 491), (10, 494), (4, 497), (9, 499), (5, 501), (1, 503), (1, 504)]\n",
    "docs = [(4, 1), (2, 4), (3, 8), (8, 10), (3, 16), (7, 22), (1, 26), (7, 27), (3, 33), (5, 37), (7, 40), (7, 41), (2, 42), (7, 43), (7, 46), (7, 47), (7, 48), (7, 49), (1, 51), (7, 52), (10, 53), (5, 54), (7, 58), (1, 59), (4, 63), (1, 64), (1, 65), (6, 68), (9, 69), (10, 70), (10, 73), (1, 74), (4, 76), (2, 80), (4, 83), (2, 85), (3, 86), (4, 87), (5, 91), (2, 97), (3, 99), (2, 103), (3, 106), (2, 111), (4, 116), (2, 117), (9, 118), (3, 120), (1, 125), (1, 128), (2, 131), (3, 132), (1, 133), (9, 134), (6, 143), (4, 144), (10, 145), (4, 146), (10, 150), (9, 152), (6, 153), (9, 155), (2, 159), (2, 162), (1, 170), (1, 181), (4, 182), (4, 188), (2, 189), (5, 191), (6, 194), (2, 196), (1, 198), (2, 199), (5, 201), (8, 206), (8, 208), (6, 219), (6, 221), (2, 222), (6, 224), (6, 228), (8, 229), (5, 245), (1, 246), (1, 247), (2, 251), (1, 258), (3, 259), (3, 260), (2, 262), (6, 265), (8, 266), (2, 267), (8, 270), (4, 283), (1, 284), (1, 285), (3, 286), (1, 289), (1, 290), (2, 291), (1, 297), (2, 300), (2, 302), (2, 306), (2, 308), (2, 315), (3, 318), (4, 322), (1, 330), (3, 333), (1, 334), (3, 336), (5, 338), (2, 343), (3, 345), (5, 346), (1, 349), (1, 351), (7, 352), (4, 354), (9, 356), (3, 361), (5, 362), (3, 375), (1, 376), (3, 387), (1, 388), (9, 390), (10, 394), (2, 399), (8, 400), (2, 402), (2, 406), (4, 407), (1, 408), (5, 413), (5, 414), (9, 415), (3, 417), (10, 419), (8, 420), (9, 421), (10, 422), (10, 427), (10, 433), (9, 437), (7, 442), (3, 452), (3, 453), (8, 455), (2, 458), (3, 461), (1, 462), (4, 463), (1, 465), (3, 471), (5, 475), (8, 477), (1, 483), (1, 484), (3, 487), (6, 488), (5, 491), (9, 492), (6, 493), (1, 495), (2, 500), (5, 502), (2, 503), (4, 505), (2, 507), (4, 508), (3, 510), (2, 511), (5, 512), (2, 513), (9, 516), (9, 517), (1, 518), (2, 519), (1, 522), (2, 523), (3, 527), (10, 530), (8, 531), (1, 535), (8, 536), (3, 537), (4, 538), (6, 540), (1, 541), (6, 542), (2, 548), (10, 551), (5, 552), (7, 555), (3, 556), (1, 557), (2, 558), (1, 559), (1, 560), (8, 566), (6, 573)]"
   ]
  },
  {
   "cell_type": "code",
   "execution_count": 39,
   "metadata": {},
   "outputs": [],
   "source": [
    "topics_ts = pd.read_csv('Output/TJ_topics.csv')\n",
    "ts_sentiment = pd.read_csv('Output/TJ_withSentiment.csv')"
   ]
  },
  {
   "cell_type": "code",
   "execution_count": 40,
   "metadata": {},
   "outputs": [
    {
     "name": "stdout",
     "output_type": "stream",
     "text": [
      "defaultdict(<class 'list'>, {4: [1, 63, 76, 83, 87, 116, 144, 146, 182, 188, 283, 322, 354, 407, 463, 505, 508, 538], 2: [4, 42, 80, 85, 97, 103, 111, 117, 131, 159, 162, 189, 196, 199, 222, 251, 262, 267, 291, 300, 302, 306, 308, 315, 343, 399, 402, 406, 458, 500, 503, 507, 511, 513, 519, 523, 548, 558], 3: [8, 16, 33, 86, 99, 106, 120, 132, 259, 260, 286, 318, 333, 336, 345, 361, 375, 387, 417, 452, 453, 461, 471, 487, 510, 527, 537, 556], 8: [10, 206, 208, 229, 266, 270, 400, 420, 455, 477, 531, 536, 566], 7: [22, 27, 40, 41, 43, 46, 47, 48, 49, 52, 58, 352, 442, 555], 1: [26, 51, 59, 64, 65, 74, 125, 128, 133, 170, 181, 198, 246, 247, 258, 284, 285, 289, 290, 297, 330, 334, 349, 351, 376, 388, 408, 462, 465, 483, 484, 495, 518, 522, 535, 541, 557, 559, 560], 5: [37, 54, 91, 191, 201, 245, 338, 346, 362, 413, 414, 475, 491, 502, 512, 552], 10: [53, 70, 73, 145, 150, 394, 419, 422, 427, 433, 530, 551], 6: [68, 143, 153, 194, 219, 221, 224, 228, 265, 488, 493, 540, 542, 573], 9: [69, 118, 134, 152, 155, 356, 390, 415, 421, 437, 492, 516, 517]})\n"
     ]
    }
   ],
   "source": [
    "from collections import defaultdict\n",
    "\n",
    "docs_list = defaultdict(list)\n",
    "\n",
    "for topic, doc in docs:\n",
    "    if topic>0 and topic<11:\n",
    "        docs_list[topic].append(doc)\n",
    "\n",
    "print(docs_list)"
   ]
  },
  {
   "cell_type": "code",
   "execution_count": 41,
   "metadata": {},
   "outputs": [],
   "source": [
    "neg_counts = []\n",
    "for i in range(1,11):\n",
    "    neg_count = 0\n",
    "    for doc in docs_list[i]:\n",
    "        if ts_sentiment['sentiment'][doc] == 'Negative':\n",
    "            neg_count += 1\n",
    "    neg_counts.append(neg_count)\n"
   ]
  },
  {
   "cell_type": "code",
   "execution_count": 42,
   "metadata": {},
   "outputs": [],
   "source": [
    "pos_counts = []\n",
    "for i in range(1,11):\n",
    "    pos_count = 0\n",
    "    for doc in docs_list[i]:\n",
    "        if ts_sentiment['sentiment'][doc] == 'Positive':\n",
    "            pos_count += 1\n",
    "    pos_counts.append(pos_count)"
   ]
  },
  {
   "cell_type": "code",
   "execution_count": 43,
   "metadata": {},
   "outputs": [],
   "source": [
    "neu_counts = []\n",
    "for i in range(1,11):\n",
    "    neu_count = 0\n",
    "    for doc in docs_list[i]:\n",
    "        if ts_sentiment['sentiment'][doc] == 'Neutral':\n",
    "            neu_count += 1\n",
    "    neu_counts.append(neu_count)"
   ]
  },
  {
   "cell_type": "code",
   "execution_count": 44,
   "metadata": {},
   "outputs": [],
   "source": [
    "topics_ts['positive_count'] = pos_counts\n",
    "topics_ts['neutral_count'] = neu_counts\n",
    "topics_ts['negative_count'] = neg_counts"
   ]
  },
  {
   "cell_type": "code",
   "execution_count": 45,
   "metadata": {},
   "outputs": [
    {
     "data": {
      "text/html": [
       "<div>\n",
       "<style scoped>\n",
       "    .dataframe tbody tr th:only-of-type {\n",
       "        vertical-align: middle;\n",
       "    }\n",
       "\n",
       "    .dataframe tbody tr th {\n",
       "        vertical-align: top;\n",
       "    }\n",
       "\n",
       "    .dataframe thead th {\n",
       "        text-align: right;\n",
       "    }\n",
       "</style>\n",
       "<table border=\"1\" class=\"dataframe\">\n",
       "  <thead>\n",
       "    <tr style=\"text-align: right;\">\n",
       "      <th></th>\n",
       "      <th>Unnamed: 0</th>\n",
       "      <th>topic_id</th>\n",
       "      <th>sentiment_value</th>\n",
       "      <th>topic_name</th>\n",
       "      <th>sentiment</th>\n",
       "      <th>positive_count</th>\n",
       "      <th>neutral_count</th>\n",
       "      <th>negative_count</th>\n",
       "    </tr>\n",
       "  </thead>\n",
       "  <tbody>\n",
       "    <tr>\n",
       "      <th>0</th>\n",
       "      <td>0</td>\n",
       "      <td>4</td>\n",
       "      <td>-8</td>\n",
       "      <td>gimana, mall, rutenya, tj, central</td>\n",
       "      <td>Negative</td>\n",
       "      <td>1</td>\n",
       "      <td>29</td>\n",
       "      <td>9</td>\n",
       "    </tr>\n",
       "    <tr>\n",
       "      <th>1</th>\n",
       "      <td>1</td>\n",
       "      <td>2</td>\n",
       "      <td>0</td>\n",
       "      <td>kah, tj, koridor, pake, tolong</td>\n",
       "      <td>Neutral</td>\n",
       "      <td>5</td>\n",
       "      <td>28</td>\n",
       "      <td>5</td>\n",
       "    </tr>\n",
       "    <tr>\n",
       "      <th>2</th>\n",
       "      <td>2</td>\n",
       "      <td>3</td>\n",
       "      <td>-6</td>\n",
       "      <td>halte, gbk, arah, senayan, kuningan</td>\n",
       "      <td>Negative</td>\n",
       "      <td>0</td>\n",
       "      <td>22</td>\n",
       "      <td>6</td>\n",
       "    </tr>\n",
       "    <tr>\n",
       "      <th>3</th>\n",
       "      <td>3</td>\n",
       "      <td>8</td>\n",
       "      <td>-1</td>\n",
       "      <td>tap, out, in, kepotong, saldo</td>\n",
       "      <td>Negative</td>\n",
       "      <td>1</td>\n",
       "      <td>8</td>\n",
       "      <td>9</td>\n",
       "    </tr>\n",
       "    <tr>\n",
       "      <th>4</th>\n",
       "      <td>4</td>\n",
       "      <td>7</td>\n",
       "      <td>0</td>\n",
       "      <td>halo, rute, layanan, slipi, padam</td>\n",
       "      <td>Neutral</td>\n",
       "      <td>0</td>\n",
       "      <td>15</td>\n",
       "      <td>1</td>\n",
       "    </tr>\n",
       "  </tbody>\n",
       "</table>\n",
       "</div>"
      ],
      "text/plain": [
       "   Unnamed: 0  topic_id  sentiment_value                           topic_name  \\\n",
       "0           0         4               -8   gimana, mall, rutenya, tj, central   \n",
       "1           1         2                0       kah, tj, koridor, pake, tolong   \n",
       "2           2         3               -6  halte, gbk, arah, senayan, kuningan   \n",
       "3           3         8               -1        tap, out, in, kepotong, saldo   \n",
       "4           4         7                0    halo, rute, layanan, slipi, padam   \n",
       "\n",
       "  sentiment  positive_count  neutral_count  negative_count  \n",
       "0  Negative               1             29               9  \n",
       "1   Neutral               5             28               5  \n",
       "2  Negative               0             22               6  \n",
       "3  Negative               1              8               9  \n",
       "4   Neutral               0             15               1  "
      ]
     },
     "execution_count": 45,
     "metadata": {},
     "output_type": "execute_result"
    }
   ],
   "source": [
    "topics_ts.head()"
   ]
  },
  {
   "cell_type": "code",
   "execution_count": 37,
   "metadata": {},
   "outputs": [],
   "source": [
    "topics_ts.to_csv('Output/TJ_topics_rev.csv')"
   ]
  }
 ],
 "metadata": {
  "kernelspec": {
   "display_name": "Python 3",
   "language": "python",
   "name": "python3"
  },
  "language_info": {
   "codemirror_mode": {
    "name": "ipython",
    "version": 3
   },
   "file_extension": ".py",
   "mimetype": "text/x-python",
   "name": "python",
   "nbconvert_exporter": "python",
   "pygments_lexer": "ipython3",
   "version": "3.10.5"
  }
 },
 "nbformat": 4,
 "nbformat_minor": 2
}
