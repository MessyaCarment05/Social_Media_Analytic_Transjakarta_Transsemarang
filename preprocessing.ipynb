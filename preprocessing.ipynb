{
 "cells": [
  {
   "cell_type": "code",
   "execution_count": 1,
   "metadata": {},
   "outputs": [],
   "source": [
    "import os\n",
    "import pandas as pd"
   ]
  },
  {
   "cell_type": "code",
   "execution_count": 57,
   "metadata": {},
   "outputs": [],
   "source": [
    "df_tj = pd.read_csv(\"./Data/TJ_sat.csv\").assign(keyword=\"Transjakarta\")\n",
    "df_ts = pd.read_csv(\"./Data/TS_sat.csv\").assign(keyword=\"Transsemarang\")"
   ]
  },
  {
   "cell_type": "code",
   "execution_count": 58,
   "metadata": {},
   "outputs": [
    {
     "data": {
      "text/html": [
       "<div>\n",
       "<style scoped>\n",
       "    .dataframe tbody tr th:only-of-type {\n",
       "        vertical-align: middle;\n",
       "    }\n",
       "\n",
       "    .dataframe tbody tr th {\n",
       "        vertical-align: top;\n",
       "    }\n",
       "\n",
       "    .dataframe thead th {\n",
       "        text-align: right;\n",
       "    }\n",
       "</style>\n",
       "<table border=\"1\" class=\"dataframe\">\n",
       "  <thead>\n",
       "    <tr style=\"text-align: right;\">\n",
       "      <th></th>\n",
       "      <th>conversation_id_str</th>\n",
       "      <th>created_at</th>\n",
       "      <th>favorite_count</th>\n",
       "      <th>full_text</th>\n",
       "      <th>id_str</th>\n",
       "      <th>image_url</th>\n",
       "      <th>in_reply_to_screen_name</th>\n",
       "      <th>lang</th>\n",
       "      <th>location</th>\n",
       "      <th>quote_count</th>\n",
       "      <th>reply_count</th>\n",
       "      <th>retweet_count</th>\n",
       "      <th>tweet_url</th>\n",
       "      <th>user_id_str</th>\n",
       "      <th>username</th>\n",
       "      <th>keyword</th>\n",
       "    </tr>\n",
       "  </thead>\n",
       "  <tbody>\n",
       "    <tr>\n",
       "      <th>0</th>\n",
       "      <td>1804119693726486727</td>\n",
       "      <td>Fri Jun 21 11:50:28 +0000 2024</td>\n",
       "      <td>0</td>\n",
       "      <td>gaasik nih @PT_Transjakarta 9 pluit gadatang d...</td>\n",
       "      <td>1804119693726486727</td>\n",
       "      <td>NaN</td>\n",
       "      <td>NaN</td>\n",
       "      <td>in</td>\n",
       "      <td>Tangerang, Banten</td>\n",
       "      <td>0</td>\n",
       "      <td>0</td>\n",
       "      <td>0</td>\n",
       "      <td>https://x.com/totaeba_/status/1804119693726486727</td>\n",
       "      <td>721714885512441856</td>\n",
       "      <td>totaeba_</td>\n",
       "      <td>Transjakarta</td>\n",
       "    </tr>\n",
       "    <tr>\n",
       "      <th>1</th>\n",
       "      <td>1804117959805395101</td>\n",
       "      <td>Fri Jun 21 11:43:35 +0000 2024</td>\n",
       "      <td>0</td>\n",
       "      <td>Hallo min sebernya penarikan dana itu saat tap...</td>\n",
       "      <td>1804117959805395101</td>\n",
       "      <td>NaN</td>\n",
       "      <td>NaN</td>\n",
       "      <td>in</td>\n",
       "      <td>Jakarta, Indonesia</td>\n",
       "      <td>0</td>\n",
       "      <td>1</td>\n",
       "      <td>0</td>\n",
       "      <td>https://x.com/haloakubecca/status/180411795980...</td>\n",
       "      <td>96542270</td>\n",
       "      <td>haloakubecca</td>\n",
       "      <td>Transjakarta</td>\n",
       "    </tr>\n",
       "    <tr>\n",
       "      <th>2</th>\n",
       "      <td>1804115099902448074</td>\n",
       "      <td>Fri Jun 21 11:32:13 +0000 2024</td>\n",
       "      <td>1</td>\n",
       "      <td>Halo min @PT_Transjakarta di halte Pondok Inda...</td>\n",
       "      <td>1804115099902448074</td>\n",
       "      <td>https://pbs.twimg.com/media/GQmBHXnakAAJLWJ.jpg</td>\n",
       "      <td>NaN</td>\n",
       "      <td>in</td>\n",
       "      <td>NaN</td>\n",
       "      <td>0</td>\n",
       "      <td>1</td>\n",
       "      <td>1</td>\n",
       "      <td>https://x.com/JeaKelana/status/180411509990244...</td>\n",
       "      <td>967380640617263104</td>\n",
       "      <td>JeaKelana</td>\n",
       "      <td>Transjakarta</td>\n",
       "    </tr>\n",
       "    <tr>\n",
       "      <th>3</th>\n",
       "      <td>1804114994088583643</td>\n",
       "      <td>Fri Jun 21 11:31:48 +0000 2024</td>\n",
       "      <td>1</td>\n",
       "      <td>Udahnya kartu tiap tap tulisannya reset/tap in...</td>\n",
       "      <td>1804114994088583643</td>\n",
       "      <td>NaN</td>\n",
       "      <td>NaN</td>\n",
       "      <td>in</td>\n",
       "      <td>NaN</td>\n",
       "      <td>0</td>\n",
       "      <td>1</td>\n",
       "      <td>0</td>\n",
       "      <td>https://x.com/kokumble/status/1804114994088583643</td>\n",
       "      <td>934811053069762565</td>\n",
       "      <td>kokumble</td>\n",
       "      <td>Transjakarta</td>\n",
       "    </tr>\n",
       "    <tr>\n",
       "      <th>4</th>\n",
       "      <td>1804114544505294903</td>\n",
       "      <td>Fri Jun 21 11:30:00 +0000 2024</td>\n",
       "      <td>1</td>\n",
       "      <td>Kokkkkk tj gabisa ditrack di gmaps lagiiiiii @...</td>\n",
       "      <td>1804114544505294903</td>\n",
       "      <td>NaN</td>\n",
       "      <td>NaN</td>\n",
       "      <td>in</td>\n",
       "      <td>NaN</td>\n",
       "      <td>0</td>\n",
       "      <td>0</td>\n",
       "      <td>0</td>\n",
       "      <td>https://x.com/fadillahasya/status/180411454450...</td>\n",
       "      <td>2678057670</td>\n",
       "      <td>fadillahasya</td>\n",
       "      <td>Transjakarta</td>\n",
       "    </tr>\n",
       "  </tbody>\n",
       "</table>\n",
       "</div>"
      ],
      "text/plain": [
       "   conversation_id_str                      created_at  favorite_count  \\\n",
       "0  1804119693726486727  Fri Jun 21 11:50:28 +0000 2024               0   \n",
       "1  1804117959805395101  Fri Jun 21 11:43:35 +0000 2024               0   \n",
       "2  1804115099902448074  Fri Jun 21 11:32:13 +0000 2024               1   \n",
       "3  1804114994088583643  Fri Jun 21 11:31:48 +0000 2024               1   \n",
       "4  1804114544505294903  Fri Jun 21 11:30:00 +0000 2024               1   \n",
       "\n",
       "                                           full_text               id_str  \\\n",
       "0  gaasik nih @PT_Transjakarta 9 pluit gadatang d...  1804119693726486727   \n",
       "1  Hallo min sebernya penarikan dana itu saat tap...  1804117959805395101   \n",
       "2  Halo min @PT_Transjakarta di halte Pondok Inda...  1804115099902448074   \n",
       "3  Udahnya kartu tiap tap tulisannya reset/tap in...  1804114994088583643   \n",
       "4  Kokkkkk tj gabisa ditrack di gmaps lagiiiiii @...  1804114544505294903   \n",
       "\n",
       "                                         image_url  in_reply_to_screen_name  \\\n",
       "0                                              NaN                      NaN   \n",
       "1                                              NaN                      NaN   \n",
       "2  https://pbs.twimg.com/media/GQmBHXnakAAJLWJ.jpg                      NaN   \n",
       "3                                              NaN                      NaN   \n",
       "4                                              NaN                      NaN   \n",
       "\n",
       "  lang            location  quote_count  reply_count  retweet_count  \\\n",
       "0   in   Tangerang, Banten            0            0              0   \n",
       "1   in  Jakarta, Indonesia            0            1              0   \n",
       "2   in                 NaN            0            1              1   \n",
       "3   in                 NaN            0            1              0   \n",
       "4   in                 NaN            0            0              0   \n",
       "\n",
       "                                           tweet_url         user_id_str  \\\n",
       "0  https://x.com/totaeba_/status/1804119693726486727  721714885512441856   \n",
       "1  https://x.com/haloakubecca/status/180411795980...            96542270   \n",
       "2  https://x.com/JeaKelana/status/180411509990244...  967380640617263104   \n",
       "3  https://x.com/kokumble/status/1804114994088583643  934811053069762565   \n",
       "4  https://x.com/fadillahasya/status/180411454450...          2678057670   \n",
       "\n",
       "       username       keyword  \n",
       "0      totaeba_  Transjakarta  \n",
       "1  haloakubecca  Transjakarta  \n",
       "2     JeaKelana  Transjakarta  \n",
       "3      kokumble  Transjakarta  \n",
       "4  fadillahasya  Transjakarta  "
      ]
     },
     "execution_count": 58,
     "metadata": {},
     "output_type": "execute_result"
    }
   ],
   "source": [
    "df_tj.head()"
   ]
  },
  {
   "cell_type": "code",
   "execution_count": 21,
   "metadata": {},
   "outputs": [],
   "source": [
    "# for file in os.listdir(\"./Data\"):\n",
    "#     df = pd.concat([df, pd.read_csv(\"./Data/\" + file).assign(keyword=os.path.basename(\"./Data/\" + file))])"
   ]
  },
  {
   "cell_type": "code",
   "execution_count": 59,
   "metadata": {},
   "outputs": [],
   "source": [
    "cleaned_tj = df_tj[df_tj['username'] != \"PT_Transjakarta\"]\n",
    "cleaned_ts = df_ts[df_ts['username'] != \"Transsemarang\"]"
   ]
  },
  {
   "cell_type": "code",
   "execution_count": 60,
   "metadata": {},
   "outputs": [
    {
     "name": "stdout",
     "output_type": "stream",
     "text": [
      "(574, 16)\n",
      "(506, 16)\n"
     ]
    }
   ],
   "source": [
    "print(cleaned_tj.shape)\n",
    "print(cleaned_ts.shape)"
   ]
  },
  {
   "cell_type": "code",
   "execution_count": 61,
   "metadata": {},
   "outputs": [],
   "source": [
    "cleaned_tj = cleaned_tj.drop(columns=['image_url', 'in_reply_to_screen_name', 'tweet_url', 'user_id_str', 'conversation_id_str'])\n",
    "cleaned_ts = cleaned_ts.drop(columns=['image_url', 'in_reply_to_screen_name', 'tweet_url', 'user_id_str', 'conversation_id_str'])"
   ]
  },
  {
   "cell_type": "code",
   "execution_count": 62,
   "metadata": {},
   "outputs": [],
   "source": [
    "cleaned_tj = cleaned_tj.drop_duplicates()\n",
    "cleaned_tj = cleaned_tj.drop_duplicates(subset=['full_text'])\n",
    "cleaned_ts = cleaned_ts.drop_duplicates()\n",
    "cleaned_ts = cleaned_ts.drop_duplicates(subset=['full_text'])"
   ]
  },
  {
   "cell_type": "code",
   "execution_count": 63,
   "metadata": {},
   "outputs": [
    {
     "name": "stdout",
     "output_type": "stream",
     "text": [
      "keyword\n",
      "Transjakarta    574\n",
      "Name: count, dtype: int64\n"
     ]
    }
   ],
   "source": [
    "print(cleaned_tj['keyword'].value_counts())"
   ]
  },
  {
   "cell_type": "code",
   "execution_count": 18,
   "metadata": {},
   "outputs": [
    {
     "data": {
      "image/png": "[encoded data removed]",
      "text/plain": [
       "<Figure size 2000x800 with 1 Axes>"
      ]
     },
     "metadata": {},
     "output_type": "display_data"
    }
   ],
   "source": [
    "# import matplotlib.pyplot as plt\n",
    "\n",
    "# plt.figure(figsize=(20,8))\n",
    "# plt.title('Data Distribution')\n",
    "# plt.bar(df_important['keyword'].value_counts().keys(), df_important['keyword'].value_counts(), color=\"lightblue\")\n",
    "# plt.show()"
   ]
  },
  {
   "cell_type": "code",
   "execution_count": 64,
   "metadata": {},
   "outputs": [],
   "source": [
    "cleaned_tj.to_csv('./Data/Cleaned_TJ_new.csv')\n",
    "cleaned_ts.to_csv('./Data/Cleaned_TS_new.csv')"
   ]
  },
  {
   "cell_type": "code",
   "execution_count": 65,
   "metadata": {},
   "outputs": [],
   "source": [
    "import re\n",
    "from nltk.corpus import stopwords\n",
    "from Sastrawi.Stemmer.StemmerFactory import StemmerFactory\n",
    "\n",
    "factory = StemmerFactory()\n",
    "stemmer = factory.create_stemmer()\n",
    "\n",
    "stop_words = set(stopwords.words('indonesian')).union({\n",
    "    'yg', 'dgn', 'kalo', 'bgt', 'aja', 'dr', 'sbg', 'utk', 'tbh', 'tsb', 'tp', 'ya', 'kl', 'klw', 'oh', 'duh', 'waduh', 'min', 'b', 'si'\n",
    "})\n",
    "\n",
    "abbreviation_dict = {\n",
    "    'gk': 'tidak',\n",
    "    'ga': 'tidak',\n",
    "    'gak': 'tidak',\n",
    "    'aja': 'saja',\n",
    "    'dr': 'dari',\n",
    "}\n",
    "\n",
    "for i, tweet in enumerate(cleaned_tj['full_text']):\n",
    "    #to lowercase\n",
    "    tweet = tweet.lower()\n",
    "    #remove urls\n",
    "    tweet = re.sub(r\"http\\S+|www\\S+|https\\S+\", '', tweet, flags=re.MULTILINE)\n",
    "    #remove mentions\n",
    "    tweet = re.sub(r'@\\w+', '', tweet)\n",
    "    #remove numbers\n",
    "    tweet = re.sub(r'\\d+', '', tweet)\n",
    "    #remove punctuation\n",
    "    tweet = re.sub(r'\\W', ' ', tweet)\n",
    "    #ganti singkatan\n",
    "    words = tweet.split()\n",
    "    normalized_words = [abbreviation_dict[word] if word in abbreviation_dict else word for word in words]\n",
    "    tweet = ' '.join(normalized_words)\n",
    "    #filter stopwords\n",
    "    tweet = ' '.join([word for word in tweet.split() if word not in stop_words])\n",
    "\n",
    "    cleaned_tj.loc[i, 'full_text'] = tweet\n",
    "\n",
    "for i, tweet in enumerate(cleaned_ts['full_text']):\n",
    "    #to lowercase\n",
    "    tweet = tweet.lower()\n",
    "    #remove urls\n",
    "    tweet = re.sub(r\"http\\S+|www\\S+|https\\S+\", '', tweet, flags=re.MULTILINE)\n",
    "    #remove mentions\n",
    "    tweet = re.sub(r'@\\w+', '', tweet)\n",
    "    #remove numbers\n",
    "    tweet = re.sub(r'\\d+', '', tweet)\n",
    "    #remove punctuation\n",
    "    tweet = re.sub(r'\\W', ' ', tweet)\n",
    "    #ganti singkatan\n",
    "    words = tweet.split()\n",
    "    normalized_words = [abbreviation_dict[word] if word in abbreviation_dict else word for word in words]\n",
    "    tweet = ' '.join(normalized_words)\n",
    "    #filter stopwords\n",
    "    tweet = ' '.join([word for word in tweet.split() if word not in stop_words])\n",
    "\n",
    "    cleaned_ts.loc[i, 'full_text'] = tweet\n",
    "\n",
    "#ga remove hashtags"
   ]
  },
  {
   "cell_type": "code",
   "execution_count": 66,
   "metadata": {},
   "outputs": [
    {
     "name": "stdout",
     "output_type": "stream",
     "text": [
      "0     gaasik nih pluit gadatang dah menit nunggu wid...\n",
      "1     hallo sebernya penarikan dana tap in tap out s...\n",
      "2     halo halte pondok indah fasilitas duduk lansia...\n",
      "3     udahnya kartu tap tulisannya reset tap in lift...\n",
      "4             kokkkkk tj gabisa ditrack gmaps lagiiiiii\n",
      "5                   halte permata hijau perpusnas nomor\n",
      "6     halo stasiun gondangdia galer nasional bus tin...\n",
      "7          kesel live transjakarta hilang gt keterangan\n",
      "8          halo halte senayan jcc kuningan city koridor\n",
      "9                  pinter banget lo bikin susah jakfair\n",
      "10      halo besok tj gbk kampung melayu beroperasi jam\n",
      "11    tj menggila guys gw setngah jam nungguin d mun...\n",
      "12                   halte cibubur junction csw jurusan\n",
      "13           nunggu tj prj senen udah menitan huftttttt\n",
      "14             prj pengguna jalur nyambung terima kasih\n",
      "15    halo bermitra mayasari bakti bus rute jarak ac...\n",
      "16    rute c arah senayan minggu pagi pas jam cfd me...\n",
      "17    rute f pinang ranti pondok gede aktif liat apl...\n",
      "18    kacau ni c pindah cawang sentral antrian nya k...\n",
      "19    selamat sore izin besok tanggal juni perubahan...\n",
      "Name: full_text, dtype: object\n"
     ]
    }
   ],
   "source": [
    "print(cleaned_tj['full_text'][:20])"
   ]
  },
  {
   "cell_type": "code",
   "execution_count": 56,
   "metadata": {},
   "outputs": [],
   "source": [
    "cleaned_tj.to_csv('./Data/Preprocessed_TJ_new.csv')\n",
    "cleaned_ts.to_csv('./Data/Preprocessed_TS_new.csv')"
   ]
  },
  {
   "cell_type": "code",
   "execution_count": null,
   "metadata": {},
   "outputs": [],
   "source": []
  }
 ],
 "metadata": {
  "kernelspec": {
   "display_name": "Python 3",
   "language": "python",
   "name": "python3"
  },
  "language_info": {
   "codemirror_mode": {
    "name": "ipython",
    "version": 3
   },
   "file_extension": ".py",
   "mimetype": "text/x-python",
   "name": "python",
   "nbconvert_exporter": "python",
   "pygments_lexer": "ipython3",
   "version": "3.10.5"
  }
 },
 "nbformat": 4,
 "nbformat_minor": 2
}
