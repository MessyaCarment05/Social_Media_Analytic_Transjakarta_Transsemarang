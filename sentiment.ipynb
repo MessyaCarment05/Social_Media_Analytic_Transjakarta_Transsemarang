{
 "cells": [
  {
   "cell_type": "code",
   "execution_count": 1,
   "metadata": {},
   "outputs": [],
   "source": [
    "import transformers\n",
    "import torch"
   ]
  },
  {
   "cell_type": "code",
   "execution_count": 2,
   "metadata": {},
   "outputs": [
    {
     "name": "stderr",
     "output_type": "stream",
     "text": [
      "c:\\Users\\Yoga Duet\\AppData\\Local\\Programs\\Python\\Python310\\lib\\site-packages\\torch\\_utils.py:776: UserWarning: TypedStorage is deprecated. It will be removed in the future and UntypedStorage will be the only storage class. This should only matter to you if you are using storages directly.  To access UntypedStorage directly, use tensor.untyped_storage() instead of tensor.storage()\n",
      "  return self.fget.__get__(instance, owner)()\n"
     ]
    }
   ],
   "source": [
    "# Load model directly\n",
    "from transformers import AutoTokenizer, AutoModelForSequenceClassification\n",
    "\n",
    "tokenizer = AutoTokenizer.from_pretrained(\"ayameRushia/bert-base-indonesian-1.5G-sentiment-analysis-smsa\")\n",
    "model = AutoModelForSequenceClassification.from_pretrained(\"ayameRushia/bert-base-indonesian-1.5G-sentiment-analysis-smsa\")"
   ]
  },
  {
   "cell_type": "code",
   "execution_count": 3,
   "metadata": {},
   "outputs": [],
   "source": [
    "import pandas as pd"
   ]
  },
  {
   "cell_type": "code",
   "execution_count": 6,
   "metadata": {},
   "outputs": [],
   "source": [
    "tj = pd.read_csv('Data/TJ_withDay.csv')\n",
    "ts = pd.read_csv('Data/TS_withDay.csv')"
   ]
  },
  {
   "cell_type": "code",
   "execution_count": 7,
   "metadata": {},
   "outputs": [
    {
     "name": "stdout",
     "output_type": "stream",
     "text": [
      "['Neutral', 'Negative', 'Neutral', 'Neutral', 'Neutral', 'Neutral', 'Neutral', 'Neutral', 'Neutral', 'Negative', 'Neutral', 'Neutral', 'Neutral', 'Neutral', 'Positive', 'Neutral', 'Neutral', 'Neutral', 'Neutral', 'Neutral', 'Neutral', 'Neutral', 'Neutral', 'Positive', 'Neutral', 'Neutral', 'Neutral', 'Neutral', 'Neutral', 'Neutral', 'Neutral', 'Neutral', 'Neutral', 'Neutral', 'Positive', 'Neutral', 'Neutral', 'Neutral', 'Neutral', 'Neutral', 'Neutral', 'Neutral', 'Positive', 'Negative', 'Neutral', 'Neutral', 'Neutral', 'Neutral', 'Neutral', 'Positive', 'Negative', 'Negative', 'Neutral', 'Neutral', 'Neutral', 'Neutral', 'Neutral', 'Neutral', 'Neutral', 'Neutral', 'Neutral', 'Neutral', 'Neutral', 'Neutral', 'Neutral', 'Negative', 'Neutral', 'Neutral', 'Neutral', 'Neutral', 'Neutral', 'Neutral', 'Neutral', 'Neutral', 'Neutral', 'Neutral', 'Neutral', 'Negative', 'Neutral', 'Negative', 'Neutral', 'Negative', 'Neutral', 'Neutral', 'Neutral', 'Neutral', 'Neutral', 'Neutral', 'Neutral', 'Negative', 'Neutral', 'Neutral', 'Neutral', 'Negative', 'Neutral', 'Neutral', 'Neutral', 'Neutral', 'Neutral', 'Neutral', 'Negative', 'Neutral', 'Neutral', 'Neutral', 'Neutral', 'Neutral', 'Neutral', 'Neutral', 'Neutral', 'Neutral', 'Neutral', 'Neutral', 'Neutral', 'Neutral', 'Neutral', 'Positive', 'Neutral', 'Neutral', 'Neutral', 'Neutral', 'Negative', 'Negative', 'Neutral', 'Neutral', 'Neutral', 'Positive', 'Neutral', 'Neutral', 'Neutral', 'Neutral', 'Neutral', 'Positive', 'Neutral', 'Neutral', 'Neutral', 'Neutral', 'Neutral', 'Neutral', 'Neutral', 'Neutral', 'Neutral', 'Neutral', 'Neutral', 'Neutral', 'Neutral', 'Neutral', 'Neutral', 'Neutral', 'Neutral', 'Neutral', 'Neutral', 'Neutral', 'Neutral', 'Neutral', 'Neutral', 'Neutral', 'Neutral', 'Neutral', 'Neutral', 'Negative', 'Negative', 'Neutral', 'Neutral', 'Neutral', 'Negative', 'Neutral', 'Neutral', 'Negative', 'Neutral', 'Neutral', 'Negative', 'Neutral', 'Neutral', 'Negative', 'Neutral', 'Neutral', 'Neutral', 'Negative', 'Negative', 'Neutral', 'Neutral', 'Neutral', 'Neutral', 'Neutral', 'Neutral', 'Neutral', 'Neutral', 'Neutral', 'Neutral', 'Neutral', 'Neutral', 'Neutral', 'Neutral', 'Negative', 'Neutral', 'Neutral', 'Negative', 'Neutral', 'Neutral', 'Neutral', 'Neutral', 'Positive', 'Neutral', 'Neutral', 'Neutral', 'Neutral', 'Neutral', 'Neutral', 'Negative', 'Positive', 'Positive', 'Positive', 'Neutral', 'Neutral', 'Neutral', 'Neutral', 'Positive', 'Positive', 'Neutral', 'Neutral', 'Neutral', 'Neutral', 'Neutral', 'Neutral', 'Negative', 'Neutral', 'Neutral', 'Negative', 'Neutral', 'Negative', 'Neutral', 'Neutral', 'Neutral', 'Neutral', 'Neutral', 'Neutral', 'Neutral', 'Neutral', 'Neutral', 'Neutral', 'Neutral', 'Neutral', 'Positive', 'Neutral', 'Positive', 'Negative', 'Neutral', 'Positive', 'Negative', 'Neutral', 'Neutral', 'Neutral', 'Neutral', 'Neutral', 'Neutral', 'Neutral', 'Neutral', 'Neutral', 'Neutral', 'Neutral', 'Negative', 'Neutral', 'Neutral', 'Neutral', 'Neutral', 'Neutral', 'Neutral', 'Neutral', 'Neutral', 'Neutral', 'Negative', 'Negative', 'Negative', 'Neutral', 'Negative', 'Neutral', 'Positive', 'Negative', 'Neutral', 'Neutral', 'Neutral', 'Neutral', 'Neutral', 'Neutral', 'Negative', 'Neutral', 'Positive', 'Neutral', 'Neutral', 'Neutral', 'Neutral', 'Negative', 'Positive', 'Positive', 'Neutral', 'Neutral', 'Neutral', 'Positive', 'Positive', 'Neutral', 'Positive', 'Neutral', 'Neutral', 'Neutral', 'Neutral', 'Neutral', 'Positive', 'Neutral', 'Negative', 'Neutral', 'Neutral', 'Neutral', 'Neutral', 'Neutral', 'Positive', 'Neutral', 'Neutral', 'Neutral', 'Neutral', 'Positive', 'Positive', 'Negative', 'Neutral', 'Neutral', 'Negative', 'Neutral', 'Neutral', 'Neutral', 'Neutral', 'Neutral', 'Neutral', 'Negative', 'Positive', 'Neutral', 'Neutral', 'Neutral', 'Neutral', 'Neutral', 'Neutral', 'Neutral', 'Neutral', 'Neutral', 'Neutral', 'Negative', 'Neutral', 'Positive', 'Neutral', 'Neutral', 'Neutral', 'Neutral', 'Neutral', 'Negative', 'Neutral', 'Neutral', 'Negative', 'Neutral', 'Neutral', 'Neutral', 'Neutral', 'Neutral', 'Neutral', 'Negative', 'Negative', 'Neutral', 'Neutral', 'Neutral', 'Neutral', 'Neutral', 'Neutral', 'Negative', 'Neutral', 'Neutral', 'Positive', 'Neutral', 'Negative', 'Negative', 'Neutral', 'Neutral', 'Neutral', 'Neutral', 'Negative', 'Neutral', 'Neutral', 'Neutral', 'Neutral', 'Positive', 'Positive', 'Positive', 'Neutral', 'Neutral', 'Neutral', 'Neutral', 'Neutral', 'Positive', 'Neutral', 'Neutral', 'Negative', 'Positive', 'Neutral', 'Neutral', 'Neutral', 'Neutral', 'Neutral', 'Positive', 'Neutral', 'Neutral', 'Negative', 'Neutral', 'Neutral', 'Neutral', 'Neutral', 'Neutral', 'Neutral', 'Neutral', 'Neutral', 'Neutral', 'Neutral', 'Neutral', 'Positive', 'Positive', 'Neutral', 'Neutral', 'Neutral', 'Neutral', 'Positive', 'Neutral', 'Neutral', 'Neutral', 'Neutral', 'Neutral', 'Neutral', 'Neutral', 'Neutral', 'Neutral', 'Negative', 'Neutral', 'Negative', 'Neutral', 'Neutral', 'Neutral', 'Neutral', 'Neutral', 'Neutral', 'Neutral', 'Neutral', 'Neutral', 'Neutral', 'Neutral', 'Neutral', 'Neutral', 'Negative', 'Neutral', 'Negative', 'Neutral', 'Neutral', 'Neutral', 'Neutral', 'Neutral', 'Negative', 'Neutral', 'Neutral', 'Neutral', 'Negative', 'Negative', 'Neutral', 'Neutral', 'Positive', 'Neutral', 'Neutral', 'Neutral', 'Neutral', 'Neutral', 'Neutral', 'Neutral', 'Neutral', 'Neutral', 'Positive', 'Negative', 'Negative', 'Neutral', 'Neutral', 'Neutral', 'Positive', 'Neutral', 'Neutral', 'Neutral', 'Neutral', 'Neutral', 'Negative', 'Neutral', 'Neutral', 'Positive', 'Neutral', 'Neutral', 'Negative', 'Neutral', 'Neutral', 'Neutral', 'Positive', 'Negative', 'Neutral', 'Neutral', 'Neutral', 'Neutral', 'Neutral']\n"
     ]
    }
   ],
   "source": [
    "#Testing the model\n",
    "\n",
    "list = ['suka nih', 'mau nanya dong', 'ga suka nih']\n",
    "sentiments = []\n",
    "\n",
    "for tweet in tj['full_text']:\n",
    "    inputs = tokenizer(tweet, return_tensors=\"pt\")\n",
    "\n",
    "    with torch.no_grad():\n",
    "        logits = model(**inputs).logits\n",
    "\n",
    "    predicted_class_id = logits.argmax().item()\n",
    "    sentiments.append(model.config.id2label[predicted_class_id])\n",
    "\n",
    "tj['sentiment'] = sentiments\n",
    "\n",
    "sentiments = []\n",
    "\n",
    "for tweet in ts['full_text']:\n",
    "    inputs = tokenizer(tweet, return_tensors=\"pt\")\n",
    "\n",
    "    with torch.no_grad():\n",
    "        logits = model(**inputs).logits\n",
    "\n",
    "    predicted_class_id = logits.argmax().item()\n",
    "    sentiments.append(model.config.id2label[predicted_class_id])\n",
    "\n",
    "ts['sentiment'] = sentiments\n",
    "\n",
    "print(sentiments)"
   ]
  },
  {
   "cell_type": "code",
   "execution_count": 87,
   "metadata": {},
   "outputs": [],
   "source": [
    "tj['sentiment'] = sentiments"
   ]
  },
  {
   "cell_type": "code",
   "execution_count": 88,
   "metadata": {},
   "outputs": [
    {
     "data": {
      "text/plain": [
       "sentiment\n",
       "Neutral     391\n",
       "Negative    159\n",
       "Positive     24\n",
       "Name: count, dtype: int64"
      ]
     },
     "execution_count": 88,
     "metadata": {},
     "output_type": "execute_result"
    }
   ],
   "source": [
    "tj['sentiment'].value_counts()"
   ]
  },
  {
   "cell_type": "code",
   "execution_count": 89,
   "metadata": {},
   "outputs": [
    {
     "name": "stdout",
     "output_type": "stream",
     "text": [
      "Hallo min sebernya penarikan dana itu saat tap in atau tap out ya ? di beberapa shalter tap in ketarik loh dananya . tlg konfirmasinya @PT_Transjakarta\n",
      "Baru aja mau bangga semalem bisa naik bus 2P yang jarang itu dengan mudah karena bisa ditrack live eh pagi ini malah disuntik mati kabarnya Kalau sampe karena faktor ego sektoral lagi kebangetan sih @PT_Transjakarta Kado ulang tahun Jakarta yang amat membagongkan https://t.co/fcWxyz53AK\n",
      "Semenjak 7C berubah ke Cawang Sentral sekarang nunggu bus 7C udah ga lama karena setelah menurunkan penumpang di Cawang Sentral langsung bisa naik ke pintu penaikan sebelahnya. Ga membuang waktu buat puter balik lagi yeay! Makasih @PT_Transjakarta *gambar hanya pemanis https://t.co/pGd2Tsfrrt\n",
      "min kalo mau ke unj naik tj enaknya turun di stasiun mana terus naik tj apa @PT_Transjakarta\n",
      "Min @PT_Transjakarta saran untuk rute 9H lebih baik rute nya di extend dari terminal pasar minggu lurus ke Jl siaga raya lalu ke warung jati lewat halte buncit indah dan masuk ke jl raya ragunan lewat sma 28. Sepertinya cukup membantu dibanding lewat unas yg seringan bawa angin\n",
      "#SobatJaktim! Siapa yang udah punya rencana ke Jakarta Fair? Kabar gembira! @pt_transjakarta membuka 4 rute khusus dari 12 Juni-14 Juli 2024 selama @jakartafairidberlangsung. Sumber: @jsclab #enjoyjakarta #jakartafair2024 https://t.co/n9iIY6thmm\n",
      "Salut banget sama @PT_Transjakarta dan @KAI121 yang ngasih fasilitas WIFI gratis di halte dan stasiun dan nggak lemot samsek walaupun yg pake banyak. Aku love banget pokonya \n",
      "Ini yg terbiasa naik 7C di hari Jumat dgn tujuan lap. Tembakz Al Azhar Wiladatika GG. Masjid dsk Mending bablas aja sampai flyover Bogor ataupun rambutan Lalu naik Jak 28/ Jak 73 (dr PS rebo) Ataupun Jak 98 Drpada ngedumel di sosmed @PT_Transjakarta Karena ini weekend\n",
      "bang @PT_Transjakarta koridor 9 mana bang widya chandra dah penuh arah pluit\n",
      "Baru 2 hari happy sm layanan @PT_Transjakarta hari ini lgsg drop lagi Kapan sih sistem transport umum kita reliabilitynya konsisten\n",
      "Terima kasih @PT_Transjakarta @DKIJakarta yang memberikan solusi mengatasi kemacetan di pertigaan Tambak. Bus Koridor 4 bisa lewat Matraman - Slamet Riyadi - Manggarai. Perjalanan jadi lancar\n",
      "T11 udah 2 hari ini dibuat nunggu 30 menit dan gak sampai2 akhirnya naik Grab aja. Gimana nih @PT_Transjakarta not reliable banget?\n",
      "Waah akhirnya bis gandeng balik lagi ke Kor. 8 ya min @PT_Transjakarta Semoga diperbanyak armadanya terutama di jam2 sibuk karena koridor ini rameeee Thank you! https://t.co/k2Lsa4KMvy\n",
      "terima kasih @PT_Transjakarta. sudah mengubah jalur Flyover Pramuka - Manggarai sehingga jadi lebih cepat. really appreciate it \n",
      "Thank you @PT_Transjakarta pagi ini jalur koridor 4 dibelokin ke Jl. Slamet Riyadi. Jauh lebih lancar perjalanan rawamangun-rasuna said bisa ditempuh dlm waktu more less 60menit aja seperti dulu. Thank you rekayasa jalurnya! dan thanks jg utk responnya.. pertahankan ya https://t.co/XFhqbf3tEg\n",
      "Bener2 terbantu banget dengan kolaborasi @PT_Transjakarta dan @googlemaps. Semoga berjalan terus ya kerjasamanya \n",
      "halo @PT_Transjakarta ini apa gaada rencana perluasan halte Sunter Kelapa Gading? pas jam rush hour bisa kaya gini ramenya. padahal lahan sekitar halte juga masih sangat luas. https://t.co/8hgmwdyWKT\n",
      "Sejak @PT_Transjakarta tracking-nya ada di Google Maps commuting di Jakarta jadi jauh lebih enak dan nggak banyak PHP. Termasuk kalo mesti transfer antar moda yang timetablenya rapi macem @mrtjakarta https://t.co/DQpTOjQc4g\n",
      "Kalo mau ke gunung sahari tapi start nya dari sarinah rutenya gimana ya min? @PT_Transjakarta tulung dibantu ya etmin terima kasih \n",
      "nunggu 20 menit lebih sekali dateng busnya penuhnya kebangetan gimana ini koridor 9 keberadaannya ga jelaa @PT_Transjakarta\n",
      "Bus 4F dengan nomor TJ-0734 pintu blkgnyaa ga berfungsii. Pas ramai penumpang jd lumayan chaos akses keluar masuknyaa @PT_Transjakarta https://t.co/rD3eJEdqEo\n",
      "Hidup itu lucu kadang-kadang. Kemaren pulang dari Grand Indonesia naik Bus 4C ada orang nyanyi-nyanyi Hyme-nya @PT_Transjakarta dengan lantang sementara dia sendiri pake Headphone segede gaban. Sore ini pulang naik 4C lagi ada orang nonton video di hp dengan vol maksimal.\n",
      "hari2 naik tj kemana2 cuma 3 5k jadi cintaa dehh @PT_Transjakarta\n",
      "Ya Allah paringono sabar. Hampir 2 jam nunggu Tije dini hari dari halte Velbak mau ke Puri Beta. @PT_Transjakarta\n"
     ]
    }
   ],
   "source": [
    "for text in tj[tj['sentiment']=='Positive']['full_text']:\n",
    "    print(text)"
   ]
  },
  {
   "cell_type": "code",
   "execution_count": 8,
   "metadata": {},
   "outputs": [],
   "source": [
    "tj.to_csv('Output/TJ_withSentiment.csv')\n",
    "ts.to_csv('Output/TS_withSentiment.csv')"
   ]
  }
 ],
 "metadata": {
  "kernelspec": {
   "display_name": "Python 3",
   "language": "python",
   "name": "python3"
  },
  "language_info": {
   "codemirror_mode": {
    "name": "ipython",
    "version": 3
   },
   "file_extension": ".py",
   "mimetype": "text/x-python",
   "name": "python",
   "nbconvert_exporter": "python",
   "pygments_lexer": "ipython3",
   "version": "3.10.5"
  }
 },
 "nbformat": 4,
 "nbformat_minor": 2
}
